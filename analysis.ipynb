{
 "cells": [
  {
   "cell_type": "code",
   "execution_count": 3,
   "metadata": {},
   "outputs": [],
   "source": [
    "import altair as alt\n",
    "import polars as pl\n",
    "from polars import col\n",
    "from datetime import datetime"
   ]
  },
  {
   "cell_type": "code",
   "execution_count": 4,
   "metadata": {},
   "outputs": [
    {
     "name": "stdout",
     "output_type": "stream",
     "text": [
      "Rows: 1000\n",
      "Columns: 53\n",
      "$ resource_state                      <i64> 2, 2, 2, 2, 2, 2, 2, 2, 2, 2\n",
      "$ name                                <str> 'Evening Run', 'Lunch Run', 'Afternoon Run', 'pre-run snack', 'POV of the mixed shawarma in my stomach:', 'Afternoon Run', 'ffs pressed save by accident', 'Lunch Run', 'Running Man 2024 lol', 'late for yoga'\n",
      "$ distance                            <f64> 8803.0, 13518.3, 10001.9, 14008.1, 7752.5, 2876.2, 8767.0, 8011.2, 1474.2, 1180.0\n",
      "$ moving_time                         <i64> 3402, 4598, 3744, 5319, 2862, 1006, 2700, 2864, 1211, 346\n",
      "$ elapsed_time                        <i64> 3498, 4648, 3859, 5659, 3216, 1015, 2946, 2948, 5367, 349\n",
      "$ total_elevation_gain                <f64> 33.9, 59.1, 41.5, 43.4, 34.6, 12.7, 41.5, 27.7, 0.0, 0.0\n",
      "$ type                                <str> 'Run', 'Run', 'Run', 'Run', 'Run', 'Run', 'Run', 'Run', 'Walk', 'Run'\n",
      "$ sport_type                          <str> 'Run', 'Run', 'Run', 'Run', 'Run', 'Run', 'Run', 'Run', 'Walk', 'Run'\n",
      "$ workout_type                        <i64> None, None, None, None, None, 0, 0, None, None, None\n",
      "$ id                                  <i64> 13109120301, 13099561232, 13085976492, 13067307731, 13046990141, 13044493445, 13037782422, 13030124166, 13015801871, 13010545031\n",
      "$ start_date                          <str> '2024-12-13T19:16:37Z', '2024-12-12T11:15:53Z', '2024-12-10T13:04:06Z', '2024-12-07T17:00:42Z', '2024-12-04T17:36:35Z', '2024-12-03T14:19:19Z', '2024-12-03T13:29:23Z', '2024-12-02T12:36:33Z', '2024-11-30T12:01:18Z', '2024-11-29T18:22:55Z'\n",
      "$ start_date_local                    <str> '2024-12-13T19:16:37Z', '2024-12-12T11:15:53Z', '2024-12-10T13:04:06Z', '2024-12-07T17:00:42Z', '2024-12-04T17:36:35Z', '2024-12-03T14:19:19Z', '2024-12-03T13:29:23Z', '2024-12-02T12:36:33Z', '2024-11-30T12:01:18Z', '2024-11-29T18:22:55Z'\n",
      "$ timezone                            <str> '(GMT+00:00) Europe/London', '(GMT+00:00) Europe/London', '(GMT+00:00) Europe/London', '(GMT+00:00) Europe/London', '(GMT+00:00) Europe/London', '(GMT+00:00) Europe/London', '(GMT+00:00) Europe/London', '(GMT+00:00) Europe/London', '(GMT+00:00) Europe/London', '(GMT+00:00) Europe/London'\n",
      "$ utc_offset                          <f64> 0.0, 0.0, 0.0, 0.0, 0.0, 0.0, 0.0, 0.0, 0.0, 0.0\n",
      "$ location_city                      <null> None, None, None, None, None, None, None, None, None, None\n",
      "$ location_state                     <null> None, None, None, None, None, None, None, None, None, None\n",
      "$ location_country                    <str> 'United Kingdom', 'United Kingdom', 'United Kingdom', 'United Kingdom', 'United Kingdom', 'United Kingdom', 'United Kingdom', 'United Kingdom', 'United Kingdom', 'United Kingdom'\n",
      "$ achievement_count                   <i64> 0, 13, 1, 1, 1, 2, 14, 1, 0, 0\n",
      "$ kudos_count                         <i64> 7, 15, 13, 21, 10, 6, 11, 7, 10, 5\n",
      "$ comment_count                       <i64> 0, 0, 0, 1, 0, 0, 0, 0, 0, 0\n",
      "$ athlete_count                       <i64> 1, 1, 1, 1, 1, 1, 1, 1, 1, 1\n",
      "$ photo_count                         <i64> 0, 0, 0, 0, 0, 0, 0, 0, 0, 0\n",
      "$ trainer                            <bool> False, False, False, False, False, False, False, False, False, False\n",
      "$ commute                            <bool> False, False, False, False, False, False, False, False, False, False\n",
      "$ manual                             <bool> False, False, False, False, False, False, False, False, False, False\n",
      "$ private                            <bool> False, False, False, False, False, False, False, False, False, False\n",
      "$ visibility                          <str> 'followers_only', 'followers_only', 'followers_only', 'followers_only', 'followers_only', 'followers_only', 'followers_only', 'followers_only', 'followers_only', 'followers_only'\n",
      "$ flagged                            <bool> False, False, False, False, False, False, False, False, False, False\n",
      "$ gear_id                             <str> 'g17031555', 'g17031555', 'g17031555', 'g17031555', 'g17031555', 'g14690978', 'g14690978', 'g17031555', None, 'g17031555'\n",
      "$ start_latlng                  <list[f64]> [51.408237, -0.161552], [51.407952, -0.161084], [51.408736, -0.161525], [51.408603, -0.161511], [51.51131, -0.082916], [51.428916, -0.149515], [51.408288, -0.161589], [51.407961, -0.161143], [51.484265, -0.257358], [51.525875, -0.086738]\n",
      "$ end_latlng                    <list[f64]> [51.408673, -0.161903], [51.407734, -0.160997], [51.409464, -0.162245], [51.407331, -0.160969], [51.510589, -0.083454], [51.407847, -0.161123], [51.429269, -0.149428], [51.408119, -0.161343], [51.483645, -0.258793], [51.523561, -0.073171]\n",
      "$ average_speed                       <f64> 2.588, 2.94, 2.671, 2.634, 2.709, 2.859, 3.247, 2.797, 1.217, 3.41\n",
      "$ max_speed                           <f64> 3.917, 4.556, 5.129, 3.92, 6.817, 3.614, 4.65, 4.333, 3.42, 8.14\n",
      "$ average_cadence                     <f64> 86.7, 87.3, 87.3, 86.9, 86.7, 87.3, 89.3, 86.7, 56.8, 88.0\n",
      "$ has_heartrate                      <bool> True, True, True, True, True, True, True, True, True, True\n",
      "$ average_heartrate                   <f64> 143.3, 156.7, 155.5, 152.7, 147.0, 151.0, 156.6, 152.1, 96.7, 163.3\n",
      "$ max_heartrate                       <f64> 155.0, 188.0, 183.0, 171.0, 161.0, 160.0, 182.0, 168.0, 142.0, 175.0\n",
      "$ heartrate_opt_out                  <bool> False, False, False, False, False, False, False, False, False, False\n",
      "$ display_hide_heartrate_option      <bool> True, True, True, True, True, True, True, True, True, True\n",
      "$ elev_high                           <f64> 34.6, 41.1, 39.1, 35.2, 17.5, 39.1, 40.6, 34.6, 8.0, 18.2\n",
      "$ elev_low                            <f64> 20.7, 20.7, 18.7, 16.2, 3.0, 18.7, 21.1, 20.7, 6.3, 15.3\n",
      "$ upload_id                           <i64> 13979519639, 13969285210, 13954773100, 13934850628, 13913109227, 13910468591, 13903347393, 13895155939, 13879765617, 13874093030\n",
      "$ upload_id_str                       <str> '13979519639', '13969285210', '13954773100', '13934850628', '13913109227', '13910468591', '13903347393', '13895155939', '13879765617', '13874093030'\n",
      "$ external_id                         <str> 'garmin_ping_393423639176', 'garmin_ping_393079671773', 'garmin_ping_392572732826', 'garmin_ping_391838211025', 'garmin_ping_391050241318', 'garmin_ping_390975429536', 'garmin_ping_390737298976', 'garmin_ping_390455703708', 'garmin_ping_389932690745', 'garmin_ping_389733513542'\n",
      "$ from_accepted_tag                  <bool> False, False, False, False, False, False, False, False, False, False\n",
      "$ pr_count                            <i64> 0, 6, 1, 1, 0, 2, 11, 0, 0, 0\n",
      "$ total_photo_count                   <i64> 0, 0, 0, 1, 1, 0, 0, 0, 1, 0\n",
      "$ has_kudoed                         <bool> False, False, False, False, False, False, False, False, False, False\n",
      "$ suffer_score                        <f64> 27.0, 96.0, 84.0, 103.0, 36.0, 16.0, 60.0, 55.0, 2.0, 10.0\n",
      "$ average_temp                        <i64> None, None, None, None, None, None, None, None, None, None\n",
      "$ average_watts                       <f64> None, None, None, None, None, None, None, None, None, None\n",
      "$ device_watts                       <bool> None, None, None, None, None, None, None, None, None, None\n",
      "$ kilojoules                          <f64> None, None, None, None, None, None, None, None, None, None\n",
      "\n"
     ]
    }
   ],
   "source": [
    "pl.scan_parquet('strava.parquet').collect().glimpse(max_items_per_column=10)"
   ]
  },
  {
   "cell_type": "code",
   "execution_count": 5,
   "metadata": {},
   "outputs": [],
   "source": [
    "# dataframe for analysis - 2024 activities\n",
    "lf = pl.scan_parquet('strava.parquet').select(\n",
    "    col(\"name\"),\n",
    "    col(\"type\"),\n",
    "    col(\"distance\"),\n",
    "    col(\"moving_time\"),\n",
    "    col(\"elapsed_time\"),\n",
    "    col(\"total_elevation_gain\"),\n",
    "    col(\"start_date_local\"),\n",
    "    col(\"kudos_count\"),\n",
    "    col(\"comment_count\"),\n",
    "    col(\"photo_count\"),\n",
    "    col(\"elev_high\"),\n",
    "    ).with_columns(\n",
    "        col(\"distance\").cast(pl.Float32) / 1000,\n",
    "        col(\"start_date_local\").cast(pl.Datetime).cast(pl.Date)\n",
    "        ).filter(\n",
    "            col(\"start_date_local\") >= datetime(2024, 1, 1)\n",
    "        ).sort(\"start_date_local\")"
   ]
  },
  {
   "cell_type": "code",
   "execution_count": 28,
   "metadata": {},
   "outputs": [],
   "source": [
    "cumulative_gain = lf.select(\n",
    "    col(\"total_elevation_gain\"),col(\"start_date_local\")\n",
    "    ).with_columns(cumulative_elevation_gain=pl.col(\"total_elevation_gain\").cum_sum()\n",
    "    ).collect()\n",
    "\n",
    "# building a cumulative gain chart\n",
    "cumulative_gain_chart = alt.Chart(cumulative_gain).mark_line().encode(\n",
    "    alt.X(\"start_date_local:T\").title(\"date\"),\n",
    "    alt.Y(\"cumulative_elevation_gain:Q\").title(\"elevation gain\"), \n",
    "    tooltip=[\"start_date_local:T\", \"total_elevation_gain:Q\", \"cumulative_elevation_gain:Q\"],\n",
    ").properties(\n",
    "    width=800,\n",
    "    height=400,\n",
    "    title=\"Cumulative Elevation Gain (metres) per day - 2024\"\n",
    ")\n",
    "\n",
    "annotations = alt.Chart(pl.DataFrame([\n",
    "    {\"start_date_local\": \"2024-03-15\", \"cumulative_elevation_gain\": 1800, \"text\": \"12,215 bananas >\"},\n",
    "    {\"start_date_local\": \"2024-05-27\", \"cumulative_elevation_gain\": 7500, \"text\": \"1,600 male giraffes >\"},\n",
    "    {\"start_date_local\": \"2024-08-2\", \"cumulative_elevation_gain\": 13500, \"text\": \"70 elizabeth line trains >\"},\n",
    "])).mark_text(align=\"left\", dx=5, dy=-10).encode(\n",
    "    alt.X(\"start_date_local:T\"),\n",
    "    alt.Y(\"cumulative_elevation_gain:Q\"),\n",
    "    text=\"text:N\"\n",
    ")\n",
    "\n",
    "c = cumulative_gain_chart + annotations"
   ]
  },
  {
   "cell_type": "markdown",
   "metadata": {},
   "source": [
    "![Cumulative Elevation Gain - 2024](cumulative_elevation_2024.png)"
   ]
  },
  {
   "cell_type": "code",
   "execution_count": 6,
   "metadata": {},
   "outputs": [
    {
     "data": {
      "text/html": [
       "<div><style>\n",
       ".dataframe > thead > tr,\n",
       ".dataframe > tbody > tr {\n",
       "  text-align: right;\n",
       "  white-space: pre-wrap;\n",
       "}\n",
       "</style>\n",
       "<small>shape: (1, 3)</small><table border=\"1\" class=\"dataframe\"><thead><tr><th>sum</th><th>count</th><th>kudos_per_activity</th></tr><tr><td>i64</td><td>u32</td><td>f64</td></tr></thead><tbody><tr><td>5733</td><td>437</td><td>13.118993</td></tr></tbody></table></div>"
      ],
      "text/plain": [
       "shape: (1, 3)\n",
       "┌──────┬───────┬────────────────────┐\n",
       "│ sum  ┆ count ┆ kudos_per_activity │\n",
       "│ ---  ┆ ---   ┆ ---                │\n",
       "│ i64  ┆ u32   ┆ f64                │\n",
       "╞══════╪═══════╪════════════════════╡\n",
       "│ 5733 ┆ 437   ┆ 13.118993          │\n",
       "└──────┴───────┴────────────────────┘"
      ]
     },
     "execution_count": 6,
     "metadata": {},
     "output_type": "execute_result"
    }
   ],
   "source": [
    "# kudos per activity\n",
    "lf.select(\n",
    "    sum=pl.sum(\"kudos_count\"),\n",
    "    count=pl.count(\"kudos_count\"),\n",
    "    kudos_per_activity=pl.sum(\"kudos_count\")/pl.count(\"kudos_count\")\n",
    "    ).collect()"
   ]
  },
  {
   "cell_type": "code",
   "execution_count": 7,
   "metadata": {},
   "outputs": [
    {
     "data": {
      "text/html": [
       "<div><style>\n",
       ".dataframe > thead > tr,\n",
       ".dataframe > tbody > tr {\n",
       "  text-align: right;\n",
       "  white-space: pre-wrap;\n",
       "}\n",
       "</style>\n",
       "<small>shape: (1, 3)</small><table border=\"1\" class=\"dataframe\"><thead><tr><th>kudos_sum</th><th>km_sum</th><th>kudos_per_km</th></tr><tr><td>i64</td><td>f32</td><td>f64</td></tr></thead><tbody><tr><td>3089</td><td>1458.220703</td><td>2.118335</td></tr></tbody></table></div>"
      ],
      "text/plain": [
       "shape: (1, 3)\n",
       "┌───────────┬─────────────┬──────────────┐\n",
       "│ kudos_sum ┆ km_sum      ┆ kudos_per_km │\n",
       "│ ---       ┆ ---         ┆ ---          │\n",
       "│ i64       ┆ f32         ┆ f64          │\n",
       "╞═══════════╪═════════════╪══════════════╡\n",
       "│ 3089      ┆ 1458.220703 ┆ 2.118335     │\n",
       "└───────────┴─────────────┴──────────────┘"
      ]
     },
     "execution_count": 7,
     "metadata": {},
     "output_type": "execute_result"
    }
   ],
   "source": [
    "# kudos per km\n",
    "run_lf = lf.filter(col(\"type\") == \"Run\").collect()\n",
    "run_lf.select(\n",
    "    kudos_sum=pl.sum(\"kudos_count\"),\n",
    "    km_sum=pl.sum(\"distance\"),\n",
    "    kudos_per_km=pl.sum(\"kudos_count\")/pl.sum(\"distance\")\n",
    ")"
   ]
  },
  {
   "cell_type": "code",
   "execution_count": 8,
   "metadata": {},
   "outputs": [],
   "source": [
    "# scatterplot analysis - all sports\n",
    "caption_analysis = lf.select(\n",
    "    col(\"name\"),\n",
    "    col(\"type\"),\n",
    "    col(\"kudos_count\"),\n",
    "    col(\"start_date_local\"),\n",
    "    col(\"moving_time\"),\n",
    "    col(\"elapsed_time\"),\n",
    "    col(\"distance\")).with_columns(\n",
    "        custom_caption_flag=col(\"name\").is_in([\n",
    "            \"Morning Run\", \"Lunch Run\",\"Afternoon Run\", \"Evening Run\",\n",
    "            \"Morning Ride\", \"Lunch Ride\", \"Afternoon Ride\", \"Evening Ride\",\n",
    "            \"Morning Workout\", \"Lunch Workout\", \"Afternoon Workout\", \"Evening Workout\"]\n",
    "            ).not_().cast(pl.Int32)\n",
    "        )"
   ]
  },
  {
   "cell_type": "code",
   "execution_count": 22,
   "metadata": {},
   "outputs": [
    {
     "data": {
      "text/html": [
       "\n",
       "<style>\n",
       "  #altair-viz-8c0db5ff90a342d4b1830aadf70bb83d.vega-embed {\n",
       "    width: 100%;\n",
       "    display: flex;\n",
       "  }\n",
       "\n",
       "  #altair-viz-8c0db5ff90a342d4b1830aadf70bb83d.vega-embed details,\n",
       "  #altair-viz-8c0db5ff90a342d4b1830aadf70bb83d.vega-embed details summary {\n",
       "    position: relative;\n",
       "  }\n",
       "</style>\n",
       "<div id=\"altair-viz-8c0db5ff90a342d4b1830aadf70bb83d\"></div>\n",
       "<script type=\"text/javascript\">\n",
       "  var VEGA_DEBUG = (typeof VEGA_DEBUG == \"undefined\") ? {} : VEGA_DEBUG;\n",
       "  (function(spec, embedOpt){\n",
       "    let outputDiv = document.currentScript.previousElementSibling;\n",
       "    if (outputDiv.id !== \"altair-viz-8c0db5ff90a342d4b1830aadf70bb83d\") {\n",
       "      outputDiv = document.getElementById(\"altair-viz-8c0db5ff90a342d4b1830aadf70bb83d\");\n",
       "    }\n",
       "\n",
       "    const paths = {\n",
       "      \"vega\": \"https://cdn.jsdelivr.net/npm/vega@5?noext\",\n",
       "      \"vega-lib\": \"https://cdn.jsdelivr.net/npm/vega-lib?noext\",\n",
       "      \"vega-lite\": \"https://cdn.jsdelivr.net/npm/vega-lite@5.20.1?noext\",\n",
       "      \"vega-embed\": \"https://cdn.jsdelivr.net/npm/vega-embed@6?noext\",\n",
       "    };\n",
       "\n",
       "    function maybeLoadScript(lib, version) {\n",
       "      var key = `${lib.replace(\"-\", \"\")}_version`;\n",
       "      return (VEGA_DEBUG[key] == version) ?\n",
       "        Promise.resolve(paths[lib]) :\n",
       "        new Promise(function(resolve, reject) {\n",
       "          var s = document.createElement('script');\n",
       "          document.getElementsByTagName(\"head\")[0].appendChild(s);\n",
       "          s.async = true;\n",
       "          s.onload = () => {\n",
       "            VEGA_DEBUG[key] = version;\n",
       "            return resolve(paths[lib]);\n",
       "          };\n",
       "          s.onerror = () => reject(`Error loading script: ${paths[lib]}`);\n",
       "          s.src = paths[lib];\n",
       "        });\n",
       "    }\n",
       "\n",
       "    function showError(err) {\n",
       "      outputDiv.innerHTML = `<div class=\"error\" style=\"color:red;\">${err}</div>`;\n",
       "      throw err;\n",
       "    }\n",
       "\n",
       "    function displayChart(vegaEmbed) {\n",
       "      vegaEmbed(outputDiv, spec, embedOpt)\n",
       "        .catch(err => showError(`Javascript Error: ${err.message}<br>This usually means there's a typo in your chart specification. See the javascript console for the full traceback.`));\n",
       "    }\n",
       "\n",
       "    if(typeof define === \"function\" && define.amd) {\n",
       "      requirejs.config({paths});\n",
       "      let deps = [\"vega-embed\"];\n",
       "      require(deps, displayChart, err => showError(`Error loading script: ${err.message}`));\n",
       "    } else {\n",
       "      maybeLoadScript(\"vega\", \"5\")\n",
       "        .then(() => maybeLoadScript(\"vega-lite\", \"5.20.1\"))\n",
       "        .then(() => maybeLoadScript(\"vega-embed\", \"6\"))\n",
       "        .catch(showError)\n",
       "        .then(() => displayChart(vegaEmbed));\n",
       "    }\n",
       "  })({\"config\": {\"view\": {\"continuousWidth\": 300, \"continuousHeight\": 300}, \"point\": {\"filled\": true, \"size\": 50}}, \"data\": {\"name\": \"data-c232b7a9983dcb355fd1e5915ad704c4\"}, \"mark\": {\"type\": \"point\"}, \"encoding\": {\"color\": {\"field\": \"custom_caption_flag\", \"scale\": {\"domain\": [\"Yes\", \"No\"], \"range\": [\"#ff6a00\", \"#9cd0f7\"]}, \"title\": \"custom caption used?\", \"type\": \"nominal\"}, \"tooltip\": {\"field\": \"start_date_local\", \"type\": \"temporal\"}, \"x\": {\"field\": \"distance\", \"title\": \"distance ran (km)\", \"type\": \"quantitative\"}, \"y\": {\"field\": \"kudos_count\", \"title\": \"number of kudos\", \"type\": \"quantitative\"}}, \"height\": 400, \"params\": [{\"name\": \"param_12\", \"select\": {\"type\": \"interval\", \"encodings\": [\"x\", \"y\"]}, \"bind\": \"scales\"}], \"title\": {\"text\": \"Distance Ran vs. Kudos Received\", \"subtitle\": \"Pearson's R = 0.56\"}, \"transform\": [{\"calculate\": \"datum.custom_caption_flag == 1 ? 'Yes':'No'\", \"as\": \"custom_caption_flag\"}], \"width\": 400, \"$schema\": \"https://vega.github.io/schema/vega-lite/v5.20.1.json\", \"datasets\": {\"data-c232b7a9983dcb355fd1e5915ad704c4\": [{\"name\": \"Afternoon Run\", \"type\": \"Run\", \"kudos_count\": 13, \"start_date_local\": \"2024-01-01T00:00:00\", \"moving_time\": 869, \"elapsed_time\": 897, \"distance\": 2.493800163269043, \"custom_caption_flag\": 0}, {\"name\": \"Morning Run\", \"type\": \"Run\", \"kudos_count\": 17, \"start_date_local\": \"2024-01-01T00:00:00\", \"moving_time\": 2672, \"elapsed_time\": 2799, \"distance\": 7.510100364685059, \"custom_caption_flag\": 0}, {\"name\": \"mile reps\", \"type\": \"Run\", \"kudos_count\": 14, \"start_date_local\": \"2024-01-02T00:00:00\", \"moving_time\": 4200, \"elapsed_time\": 4200, \"distance\": 13.000000953674316, \"custom_caption_flag\": 1}, {\"name\": \"Lunch Run\", \"type\": \"Run\", \"kudos_count\": 10, \"start_date_local\": \"2024-01-03T00:00:00\", \"moving_time\": 1740, \"elapsed_time\": 1746, \"distance\": 5.05150032043457, \"custom_caption_flag\": 0}, {\"name\": \"Evening Run\", \"type\": \"Run\", \"kudos_count\": 20, \"start_date_local\": \"2024-01-04T00:00:00\", \"moving_time\": 3077, \"elapsed_time\": 3077, \"distance\": 8.0, \"custom_caption_flag\": 0}, {\"name\": \"1200s\", \"type\": \"Run\", \"kudos_count\": 9, \"start_date_local\": \"2024-01-05T00:00:00\", \"moving_time\": 2717, \"elapsed_time\": 2813, \"distance\": 9.110300064086914, \"custom_caption_flag\": 1}, {\"name\": \"Afternoon Run\", \"type\": \"Run\", \"kudos_count\": 7, \"start_date_local\": \"2024-01-05T00:00:00\", \"moving_time\": 1064, \"elapsed_time\": 1403, \"distance\": 2.896700143814087, \"custom_caption_flag\": 0}, {\"name\": \"Some time to kill before physio\", \"type\": \"Run\", \"kudos_count\": 10, \"start_date_local\": \"2024-01-05T00:00:00\", \"moving_time\": 1042, \"elapsed_time\": 1062, \"distance\": 3.008300304412842, \"custom_caption_flag\": 1}, {\"name\": \"Evening Run\", \"type\": \"Run\", \"kudos_count\": 19, \"start_date_local\": \"2024-01-06T00:00:00\", \"moving_time\": 4056, \"elapsed_time\": 4447, \"distance\": 9.013900756835938, \"custom_caption_flag\": 0}, {\"name\": \"Evening Run\", \"type\": \"Run\", \"kudos_count\": 17, \"start_date_local\": \"2024-01-07T00:00:00\", \"moving_time\": 1482, \"elapsed_time\": 1550, \"distance\": 4.006100177764893, \"custom_caption_flag\": 0}, {\"name\": \"Morning Run\", \"type\": \"Run\", \"kudos_count\": 15, \"start_date_local\": \"2024-01-07T00:00:00\", \"moving_time\": 1807, \"elapsed_time\": 1828, \"distance\": 5.011200428009033, \"custom_caption_flag\": 0}, {\"name\": \"\\ud83d\\udd19\\ud83d\\udd1c !!!\", \"type\": \"Run\", \"kudos_count\": 16, \"start_date_local\": \"2024-01-10T00:00:00\", \"moving_time\": 1317, \"elapsed_time\": 1334, \"distance\": 3.099600315093994, \"custom_caption_flag\": 1}, {\"name\": \"3x10mins, 2 min off\", \"type\": \"Run\", \"kudos_count\": 13, \"start_date_local\": \"2024-01-13T00:00:00\", \"moving_time\": 2486, \"elapsed_time\": 2753, \"distance\": 4.615100383758545, \"custom_caption_flag\": 1}, {\"name\": \"Afternoon Run\", \"type\": \"Run\", \"kudos_count\": 9, \"start_date_local\": \"2024-01-16T00:00:00\", \"moving_time\": 1069, \"elapsed_time\": 1094, \"distance\": 2.438500165939331, \"custom_caption_flag\": 0}, {\"name\": \"treadmill run\", \"type\": \"Run\", \"kudos_count\": 10, \"start_date_local\": \"2024-01-19T00:00:00\", \"moving_time\": 576, \"elapsed_time\": 576, \"distance\": 1.600000023841858, \"custom_caption_flag\": 1}, {\"name\": \"If you cannot race\", \"type\": \"Run\", \"kudos_count\": 26, \"start_date_local\": \"2024-01-21T00:00:00\", \"moving_time\": 4853, \"elapsed_time\": 4865, \"distance\": 10.102100372314453, \"custom_caption_flag\": 1}, {\"name\": \"Evening Run\", \"type\": \"Run\", \"kudos_count\": 16, \"start_date_local\": \"2024-01-23T00:00:00\", \"moving_time\": 1921, \"elapsed_time\": 2076, \"distance\": 4.857399940490723, \"custom_caption_flag\": 0}, {\"name\": \"Afternoon Run\", \"type\": \"Run\", \"kudos_count\": 17, \"start_date_local\": \"2024-01-26T00:00:00\", \"moving_time\": 1202, \"elapsed_time\": 1202, \"distance\": 3.251800298690796, \"custom_caption_flag\": 0}, {\"name\": \"Afternoon Run\", \"type\": \"Run\", \"kudos_count\": 17, \"start_date_local\": \"2024-01-27T00:00:00\", \"moving_time\": 1202, \"elapsed_time\": 1202, \"distance\": 3.0953001976013184, \"custom_caption_flag\": 0}, {\"name\": \"Afternoon Run\", \"type\": \"Run\", \"kudos_count\": 22, \"start_date_local\": \"2024-01-28T00:00:00\", \"moving_time\": 1501, \"elapsed_time\": 1534, \"distance\": 4.102499961853027, \"custom_caption_flag\": 0}, {\"name\": \"Evening Run\", \"type\": \"Run\", \"kudos_count\": 19, \"start_date_local\": \"2024-02-01T00:00:00\", \"moving_time\": 2108, \"elapsed_time\": 2430, \"distance\": 4.519800186157227, \"custom_caption_flag\": 0}, {\"name\": \"Afternoon Run\", \"type\": \"Run\", \"kudos_count\": 18, \"start_date_local\": \"2024-02-03T00:00:00\", \"moving_time\": 1800, \"elapsed_time\": 1884, \"distance\": 4.826700210571289, \"custom_caption_flag\": 0}, {\"name\": \"Lunch Run\", \"type\": \"Run\", \"kudos_count\": 14, \"start_date_local\": \"2024-02-10T00:00:00\", \"moving_time\": 1800, \"elapsed_time\": 1858, \"distance\": 4.5612006187438965, \"custom_caption_flag\": 0}, {\"name\": \"Afternoon Run\", \"type\": \"Run\", \"kudos_count\": 15, \"start_date_local\": \"2024-02-12T00:00:00\", \"moving_time\": 1800, \"elapsed_time\": 1809, \"distance\": 4.418400287628174, \"custom_caption_flag\": 0}, {\"name\": \"Afternoon Run\", \"type\": \"Run\", \"kudos_count\": 13, \"start_date_local\": \"2024-02-14T00:00:00\", \"moving_time\": 1766, \"elapsed_time\": 1817, \"distance\": 4.680799961090088, \"custom_caption_flag\": 0}, {\"name\": \"Evening Run\", \"type\": \"Run\", \"kudos_count\": 24, \"start_date_local\": \"2024-02-16T00:00:00\", \"moving_time\": 2706, \"elapsed_time\": 2832, \"distance\": 6.851500511169434, \"custom_caption_flag\": 0}, {\"name\": \"Lunch Run\", \"type\": \"Run\", \"kudos_count\": 30, \"start_date_local\": \"2024-02-18T00:00:00\", \"moving_time\": 3782, \"elapsed_time\": 5161, \"distance\": 8.622000694274902, \"custom_caption_flag\": 0}, {\"name\": \"Evening Run\", \"type\": \"Run\", \"kudos_count\": 19, \"start_date_local\": \"2024-02-20T00:00:00\", \"moving_time\": 3600, \"elapsed_time\": 3909, \"distance\": 9.079900741577148, \"custom_caption_flag\": 0}, {\"name\": \"Afternoon Run\", \"type\": \"Run\", \"kudos_count\": 20, \"start_date_local\": \"2024-02-23T00:00:00\", \"moving_time\": 2701, \"elapsed_time\": 2717, \"distance\": 6.811500549316406, \"custom_caption_flag\": 0}, {\"name\": \"Afternoon Run\", \"type\": \"Run\", \"kudos_count\": 30, \"start_date_local\": \"2024-02-25T00:00:00\", \"moving_time\": 3601, \"elapsed_time\": 3770, \"distance\": 8.831600189208984, \"custom_caption_flag\": 0}, {\"name\": \"tread adj\", \"type\": \"Run\", \"kudos_count\": 0, \"start_date_local\": \"2024-02-26T00:00:00\", \"moving_time\": 412, \"elapsed_time\": 412, \"distance\": 1.0, \"custom_caption_flag\": 1}, {\"name\": \"Afternoon Run\", \"type\": \"Run\", \"kudos_count\": 18, \"start_date_local\": \"2024-02-27T00:00:00\", \"moving_time\": 2682, \"elapsed_time\": 2853, \"distance\": 7.100000381469727, \"custom_caption_flag\": 0}, {\"name\": \"Afternoon Run\", \"type\": \"Run\", \"kudos_count\": 14, \"start_date_local\": \"2024-03-01T00:00:00\", \"moving_time\": 2316, \"elapsed_time\": 2535, \"distance\": 6.253100395202637, \"custom_caption_flag\": 0}, {\"name\": \"sightseeing\", \"type\": \"Run\", \"kudos_count\": 24, \"start_date_local\": \"2024-03-03T00:00:00\", \"moving_time\": 3620, \"elapsed_time\": 4018, \"distance\": 7.865000247955322, \"custom_caption_flag\": 1}, {\"name\": \"supposed to run 45m, ran 46:20\", \"type\": \"Run\", \"kudos_count\": 21, \"start_date_local\": \"2024-03-05T00:00:00\", \"moving_time\": 2780, \"elapsed_time\": 2932, \"distance\": 7.671600341796875, \"custom_caption_flag\": 1}, {\"name\": \"tread\", \"type\": \"Run\", \"kudos_count\": 0, \"start_date_local\": \"2024-03-05T00:00:00\", \"moving_time\": 600, \"elapsed_time\": 600, \"distance\": 1.600000023841858, \"custom_caption_flag\": 1}, {\"name\": \"Afternoon Run\", \"type\": \"Run\", \"kudos_count\": 15, \"start_date_local\": \"2024-03-07T00:00:00\", \"moving_time\": 2666, \"elapsed_time\": 2712, \"distance\": 6.912900447845459, \"custom_caption_flag\": 0}, {\"name\": \"Afternoon Run\", \"type\": \"Run\", \"kudos_count\": 26, \"start_date_local\": \"2024-03-10T00:00:00\", \"moving_time\": 4382, \"elapsed_time\": 4716, \"distance\": 11.198500633239746, \"custom_caption_flag\": 0}, {\"name\": \"Afternoon Run\", \"type\": \"Run\", \"kudos_count\": 17, \"start_date_local\": \"2024-03-12T00:00:00\", \"moving_time\": 2535, \"elapsed_time\": 2540, \"distance\": 6.3149003982543945, \"custom_caption_flag\": 0}, {\"name\": \"Afternoon Run\", \"type\": \"Run\", \"kudos_count\": 18, \"start_date_local\": \"2024-03-14T00:00:00\", \"moving_time\": 2701, \"elapsed_time\": 2795, \"distance\": 7.073400020599365, \"custom_caption_flag\": 0}, {\"name\": \"Afternoon Run\", \"type\": \"Run\", \"kudos_count\": 23, \"start_date_local\": \"2024-03-17T00:00:00\", \"moving_time\": 4960, \"elapsed_time\": 5183, \"distance\": 13.004401206970215, \"custom_caption_flag\": 0}, {\"name\": \"Lunch Run\", \"type\": \"Run\", \"kudos_count\": 13, \"start_date_local\": \"2024-03-19T00:00:00\", \"moving_time\": 2588, \"elapsed_time\": 2625, \"distance\": 6.011800289154053, \"custom_caption_flag\": 0}, {\"name\": \"Afternoon Run\", \"type\": \"Run\", \"kudos_count\": 17, \"start_date_local\": \"2024-03-21T00:00:00\", \"moving_time\": 2691, \"elapsed_time\": 2865, \"distance\": 7.005500316619873, \"custom_caption_flag\": 0}, {\"name\": \"Afternoon Run\", \"type\": \"Run\", \"kudos_count\": 19, \"start_date_local\": \"2024-03-22T00:00:00\", \"moving_time\": 2613, \"elapsed_time\": 2743, \"distance\": 7.007100582122803, \"custom_caption_flag\": 0}, {\"name\": \"Afternoon Run\", \"type\": \"Run\", \"kudos_count\": 25, \"start_date_local\": \"2024-03-24T00:00:00\", \"moving_time\": 3757, \"elapsed_time\": 3887, \"distance\": 10.006000518798828, \"custom_caption_flag\": 0}, {\"name\": \"bit drizzly\", \"type\": \"Run\", \"kudos_count\": 21, \"start_date_local\": \"2024-03-26T00:00:00\", \"moving_time\": 2400, \"elapsed_time\": 2413, \"distance\": 6.006800174713135, \"custom_caption_flag\": 1}, {\"name\": \"Afternoon Run\", \"type\": \"Run\", \"kudos_count\": 19, \"start_date_local\": \"2024-03-28T00:00:00\", \"moving_time\": 2780, \"elapsed_time\": 2830, \"distance\": 7.0111002922058105, \"custom_caption_flag\": 0}, {\"name\": \"Afternoon Run\", \"type\": \"Run\", \"kudos_count\": 16, \"start_date_local\": \"2024-03-30T00:00:00\", \"moving_time\": 2491, \"elapsed_time\": 2629, \"distance\": 7.0345001220703125, \"custom_caption_flag\": 0}, {\"name\": \"Morning Run\", \"type\": \"Run\", \"kudos_count\": 22, \"start_date_local\": \"2024-03-31T00:00:00\", \"moving_time\": 5726, \"elapsed_time\": 5911, \"distance\": 15.003100395202637, \"custom_caption_flag\": 0}, {\"name\": \"Lunch Run\", \"type\": \"Run\", \"kudos_count\": 15, \"start_date_local\": \"2024-04-02T00:00:00\", \"moving_time\": 2277, \"elapsed_time\": 2412, \"distance\": 6.008600234985352, \"custom_caption_flag\": 0}, {\"name\": \"run\", \"type\": \"Run\", \"kudos_count\": 0, \"start_date_local\": \"2024-04-04T00:00:00\", \"moving_time\": 360, \"elapsed_time\": 360, \"distance\": 1.0, \"custom_caption_flag\": 1}, {\"name\": \"Afternoon Run\", \"type\": \"Run\", \"kudos_count\": 25, \"start_date_local\": \"2024-04-04T00:00:00\", \"moving_time\": 3007, \"elapsed_time\": 3164, \"distance\": 8.005800247192383, \"custom_caption_flag\": 0}, {\"name\": \"Afternoon Run\", \"type\": \"Run\", \"kudos_count\": 20, \"start_date_local\": \"2024-04-05T00:00:00\", \"moving_time\": 2349, \"elapsed_time\": 2365, \"distance\": 6.001500129699707, \"custom_caption_flag\": 0}, {\"name\": \"SLR\", \"type\": \"Run\", \"kudos_count\": 32, \"start_date_local\": \"2024-04-07T00:00:00\", \"moving_time\": 6829, \"elapsed_time\": 7264, \"distance\": 15.009500503540039, \"custom_caption_flag\": 1}, {\"name\": \"there has to be a better route around the city\", \"type\": \"Run\", \"kudos_count\": 15, \"start_date_local\": \"2024-04-08T00:00:00\", \"moving_time\": 2196, \"elapsed_time\": 2466, \"distance\": 6.01140022277832, \"custom_caption_flag\": 1}, {\"name\": \"5 x 1k\", \"type\": \"Run\", \"kudos_count\": 29, \"start_date_local\": \"2024-04-10T00:00:00\", \"moving_time\": 3423, \"elapsed_time\": 3515, \"distance\": 10.008200645446777, \"custom_caption_flag\": 1}, {\"name\": \"Lucky Saint x NB\", \"type\": \"Run\", \"kudos_count\": 29, \"start_date_local\": \"2024-04-11T00:00:00\", \"moving_time\": 1678, \"elapsed_time\": 2247, \"distance\": 5.004500389099121, \"custom_caption_flag\": 1}, {\"name\": \"Morning Run\", \"type\": \"Run\", \"kudos_count\": 21, \"start_date_local\": \"2024-04-13T00:00:00\", \"moving_time\": 2603, \"elapsed_time\": 2681, \"distance\": 7.011600494384766, \"custom_caption_flag\": 0}, {\"name\": \"Strava taxed \\ud83e\\udee1\", \"type\": \"Run\", \"kudos_count\": 25, \"start_date_local\": \"2024-04-15T00:00:00\", \"moving_time\": 4388, \"elapsed_time\": 4663, \"distance\": 11.998800277709961, \"custom_caption_flag\": 1}, {\"name\": \"Afternoon Run\", \"type\": \"Run\", \"kudos_count\": 18, \"start_date_local\": \"2024-04-17T00:00:00\", \"moving_time\": 1788, \"elapsed_time\": 1963, \"distance\": 5.0157999992370605, \"custom_caption_flag\": 0}, {\"name\": \"marsh miles\", \"type\": \"Run\", \"kudos_count\": 14, \"start_date_local\": \"2024-04-18T00:00:00\", \"moving_time\": 2636, \"elapsed_time\": 2792, \"distance\": 8.007400512695312, \"custom_caption_flag\": 1}, {\"name\": \"Morning Run\", \"type\": \"Run\", \"kudos_count\": 26, \"start_date_local\": \"2024-04-21T00:00:00\", \"moving_time\": 6235, \"elapsed_time\": 7180, \"distance\": 15.007600784301758, \"custom_caption_flag\": 0}, {\"name\": \"Evening Run\", \"type\": \"Run\", \"kudos_count\": 19, \"start_date_local\": \"2024-04-22T00:00:00\", \"moving_time\": 1790, \"elapsed_time\": 1979, \"distance\": 5.009400367736816, \"custom_caption_flag\": 0}, {\"name\": \"Afternoon Run\", \"type\": \"Run\", \"kudos_count\": 18, \"start_date_local\": \"2024-04-23T00:00:00\", \"moving_time\": 2746, \"elapsed_time\": 2935, \"distance\": 8.016100883483887, \"custom_caption_flag\": 0}, {\"name\": \"felt like running east\", \"type\": \"Run\", \"kudos_count\": 22, \"start_date_local\": \"2024-04-24T00:00:00\", \"moving_time\": 3522, \"elapsed_time\": 3739, \"distance\": 10.020500183105469, \"custom_caption_flag\": 1}, {\"name\": \"quick warmup before the hike lol\", \"type\": \"Run\", \"kudos_count\": 12, \"start_date_local\": \"2024-04-27T00:00:00\", \"moving_time\": 2242, \"elapsed_time\": 2370, \"distance\": 5.753200531005859, \"custom_caption_flag\": 1}, {\"name\": \"Morning Run\", \"type\": \"Run\", \"kudos_count\": 18, \"start_date_local\": \"2024-04-28T00:00:00\", \"moving_time\": 1750, \"elapsed_time\": 2581, \"distance\": 3.200900077819824, \"custom_caption_flag\": 0}, {\"name\": \"Evening Run\", \"type\": \"Run\", \"kudos_count\": 25, \"start_date_local\": \"2024-05-01T00:00:00\", \"moving_time\": 6903, \"elapsed_time\": 7083, \"distance\": 15.002800941467285, \"custom_caption_flag\": 0}, {\"name\": \"run > vote > run\", \"type\": \"Run\", \"kudos_count\": 27, \"start_date_local\": \"2024-05-02T00:00:00\", \"moving_time\": 2250, \"elapsed_time\": 2511, \"distance\": 6.011700630187988, \"custom_caption_flag\": 1}, {\"name\": \"Evening Run\", \"type\": \"Run\", \"kudos_count\": 18, \"start_date_local\": \"2024-05-03T00:00:00\", \"moving_time\": 3412, \"elapsed_time\": 3576, \"distance\": 9.208700180053711, \"custom_caption_flag\": 0}, {\"name\": \"Evening Run\", \"type\": \"Run\", \"kudos_count\": 16, \"start_date_local\": \"2024-05-04T00:00:00\", \"moving_time\": 3968, \"elapsed_time\": 4165, \"distance\": 8.853401184082031, \"custom_caption_flag\": 0}, {\"name\": \"adj\", \"type\": \"Run\", \"kudos_count\": 0, \"start_date_local\": \"2024-05-07T00:00:00\", \"moving_time\": 294, \"elapsed_time\": 294, \"distance\": 0.7000000476837158, \"custom_caption_flag\": 1}, {\"name\": \"Evening Run\", \"type\": \"Run\", \"kudos_count\": 22, \"start_date_local\": \"2024-05-07T00:00:00\", \"moving_time\": 7927, \"elapsed_time\": 9091, \"distance\": 17.33810043334961, \"custom_caption_flag\": 0}, {\"name\": \"very 'ot\", \"type\": \"Run\", \"kudos_count\": 20, \"start_date_local\": \"2024-05-08T00:00:00\", \"moving_time\": 3154, \"elapsed_time\": 3214, \"distance\": 8.016700744628906, \"custom_caption_flag\": 1}, {\"name\": \"Evening Run\", \"type\": \"Run\", \"kudos_count\": 23, \"start_date_local\": \"2024-05-09T00:00:00\", \"moving_time\": 2260, \"elapsed_time\": 2436, \"distance\": 6.003500461578369, \"custom_caption_flag\": 0}, {\"name\": \"run to climb\", \"type\": \"Run\", \"kudos_count\": 16, \"start_date_local\": \"2024-05-10T00:00:00\", \"moving_time\": 2605, \"elapsed_time\": 2734, \"distance\": 7.005200386047363, \"custom_caption_flag\": 1}, {\"name\": \"Morning Run\", \"type\": \"Run\", \"kudos_count\": 19, \"start_date_local\": \"2024-05-11T00:00:00\", \"moving_time\": 2048, \"elapsed_time\": 2404, \"distance\": 5.005800247192383, \"custom_caption_flag\": 0}, {\"name\": \"Morning Run\", \"type\": \"Run\", \"kudos_count\": 23, \"start_date_local\": \"2024-05-12T00:00:00\", \"moving_time\": 6041, \"elapsed_time\": 6978, \"distance\": 13.66200065612793, \"custom_caption_flag\": 0}, {\"name\": \"Morning Run\", \"type\": \"Run\", \"kudos_count\": 18, \"start_date_local\": \"2024-05-15T00:00:00\", \"moving_time\": 4896, \"elapsed_time\": 5124, \"distance\": 14.014901161193848, \"custom_caption_flag\": 0}, {\"name\": \"sean evans run today...\", \"type\": \"Run\", \"kudos_count\": 13, \"start_date_local\": \"2024-05-17T00:00:00\", \"moving_time\": 3838, \"elapsed_time\": 4275, \"distance\": 10.002400398254395, \"custom_caption_flag\": 1}, {\"name\": \"Afternoon Run\", \"type\": \"Run\", \"kudos_count\": 27, \"start_date_local\": \"2024-05-18T00:00:00\", \"moving_time\": 2234, \"elapsed_time\": 2237, \"distance\": 5.070500373840332, \"custom_caption_flag\": 0}, {\"name\": \"warm up for sprint session\", \"type\": \"Run\", \"kudos_count\": 35, \"start_date_local\": \"2024-05-19T00:00:00\", \"moving_time\": 9881, \"elapsed_time\": 9972, \"distance\": 21.564599990844727, \"custom_caption_flag\": 1}, {\"name\": \"Afternoon Run\", \"type\": \"Run\", \"kudos_count\": 16, \"start_date_local\": \"2024-05-20T00:00:00\", \"moving_time\": 2038, \"elapsed_time\": 2236, \"distance\": 5.587900161743164, \"custom_caption_flag\": 0}, {\"name\": \"Afternoon Run\", \"type\": \"Run\", \"kudos_count\": 14, \"start_date_local\": \"2024-05-21T00:00:00\", \"moving_time\": 3471, \"elapsed_time\": 3716, \"distance\": 10.299099922180176, \"custom_caption_flag\": 0}, {\"name\": \"Afternoon Run\", \"type\": \"Run\", \"kudos_count\": 10, \"start_date_local\": \"2024-05-21T00:00:00\", \"moving_time\": 1234, \"elapsed_time\": 1515, \"distance\": 3.4391002655029297, \"custom_caption_flag\": 0}, {\"name\": \"Morning Run\", \"type\": \"Run\", \"kudos_count\": 17, \"start_date_local\": \"2024-05-25T00:00:00\", \"moving_time\": 2772, \"elapsed_time\": 3104, \"distance\": 8.014100074768066, \"custom_caption_flag\": 0}, {\"name\": \"Morning Run\", \"type\": \"Run\", \"kudos_count\": 17, \"start_date_local\": \"2024-05-25T00:00:00\", \"moving_time\": 1861, \"elapsed_time\": 2861, \"distance\": 4.862500190734863, \"custom_caption_flag\": 0}, {\"name\": \"Afternoon Run\", \"type\": \"Run\", \"kudos_count\": 26, \"start_date_local\": \"2024-05-27T00:00:00\", \"moving_time\": 6730, \"elapsed_time\": 7281, \"distance\": 18.00050163269043, \"custom_caption_flag\": 0}, {\"name\": \"track closed\", \"type\": \"Run\", \"kudos_count\": 19, \"start_date_local\": \"2024-05-29T00:00:00\", \"moving_time\": 3606, \"elapsed_time\": 3659, \"distance\": 9.606500625610352, \"custom_caption_flag\": 1}, {\"name\": \"Lunch Run\", \"type\": \"Run\", \"kudos_count\": 13, \"start_date_local\": \"2024-05-29T00:00:00\", \"moving_time\": 1332, \"elapsed_time\": 1636, \"distance\": 3.391400098800659, \"custom_caption_flag\": 0}, {\"name\": \"3x mile, 6x 200\", \"type\": \"Run\", \"kudos_count\": 13, \"start_date_local\": \"2024-05-31T00:00:00\", \"moving_time\": 5053, \"elapsed_time\": 5289, \"distance\": 13.407700538635254, \"custom_caption_flag\": 1}, {\"name\": \"Morning Run\", \"type\": \"Run\", \"kudos_count\": 16, \"start_date_local\": \"2024-06-01T00:00:00\", \"moving_time\": 1461, \"elapsed_time\": 1516, \"distance\": 4.008500099182129, \"custom_caption_flag\": 0}, {\"name\": \"guilty on 34 counts of smashing my long run\", \"type\": \"Run\", \"kudos_count\": 23, \"start_date_local\": \"2024-06-02T00:00:00\", \"moving_time\": 5770, \"elapsed_time\": 6245, \"distance\": 18.353900909423828, \"custom_caption_flag\": 1}, {\"name\": \"happy global run day\", \"type\": \"Run\", \"kudos_count\": 20, \"start_date_local\": \"2024-06-05T00:00:00\", \"moving_time\": 2891, \"elapsed_time\": 3216, \"distance\": 6.4542999267578125, \"custom_caption_flag\": 1}, {\"name\": \"200s and 400s\", \"type\": \"Run\", \"kudos_count\": 11, \"start_date_local\": \"2024-06-06T00:00:00\", \"moving_time\": 4171, \"elapsed_time\": 5024, \"distance\": 12.010100364685059, \"custom_caption_flag\": 1}, {\"name\": \"7 x 2' hard (60s jog)\", \"type\": \"Run\", \"kudos_count\": 14, \"start_date_local\": \"2024-06-08T00:00:00\", \"moving_time\": 3792, \"elapsed_time\": 4822, \"distance\": 11.004401206970215, \"custom_caption_flag\": 1}, {\"name\": \"Morning Run\", \"type\": \"Run\", \"kudos_count\": 21, \"start_date_local\": \"2024-06-09T00:00:00\", \"moving_time\": 4414, \"elapsed_time\": 5008, \"distance\": 10.01259994506836, \"custom_caption_flag\": 0}, {\"name\": \"Evening Run\", \"type\": \"Run\", \"kudos_count\": 17, \"start_date_local\": \"2024-06-10T00:00:00\", \"moving_time\": 1214, \"elapsed_time\": 1249, \"distance\": 3.1100001335144043, \"custom_caption_flag\": 0}, {\"name\": \"0\\ufe0f\\u20e3 motivation today\", \"type\": \"Run\", \"kudos_count\": 15, \"start_date_local\": \"2024-06-10T00:00:00\", \"moving_time\": 1308, \"elapsed_time\": 1496, \"distance\": 3.504800319671631, \"custom_caption_flag\": 1}, {\"name\": \"400s\", \"type\": \"Run\", \"kudos_count\": 23, \"start_date_local\": \"2024-06-11T00:00:00\", \"moving_time\": 5042, \"elapsed_time\": 6477, \"distance\": 15.009600639343262, \"custom_caption_flag\": 1}, {\"name\": \"Afternoon Run\", \"type\": \"Run\", \"kudos_count\": 14, \"start_date_local\": \"2024-06-12T00:00:00\", \"moving_time\": 2335, \"elapsed_time\": 2623, \"distance\": 5.010000228881836, \"custom_caption_flag\": 0}, {\"name\": \"figges marsh needs a caf\\u00e9\", \"type\": \"Run\", \"kudos_count\": 19, \"start_date_local\": \"2024-06-13T00:00:00\", \"moving_time\": 4711, \"elapsed_time\": 5267, \"distance\": 14.203001022338867, \"custom_caption_flag\": 1}, {\"name\": \"run to Lidl\", \"type\": \"Run\", \"kudos_count\": 12, \"start_date_local\": \"2024-06-17T00:00:00\", \"moving_time\": 3061, \"elapsed_time\": 3086, \"distance\": 8.028900146484375, \"custom_caption_flag\": 1}, {\"name\": \"Evening Run\", \"type\": \"Run\", \"kudos_count\": 17, \"start_date_local\": \"2024-06-18T00:00:00\", \"moving_time\": 3535, \"elapsed_time\": 3590, \"distance\": 10.003500938415527, \"custom_caption_flag\": 0}, {\"name\": \"Evening Run\", \"type\": \"Run\", \"kudos_count\": 13, \"start_date_local\": \"2024-06-18T00:00:00\", \"moving_time\": 1214, \"elapsed_time\": 1220, \"distance\": 3.204000234603882, \"custom_caption_flag\": 0}, {\"name\": \"Afternoon Run\", \"type\": \"Run\", \"kudos_count\": 7, \"start_date_local\": \"2024-06-19T00:00:00\", \"moving_time\": 2406, \"elapsed_time\": 2698, \"distance\": 5.0420002937316895, \"custom_caption_flag\": 0}, {\"name\": \"Morning Run\", \"type\": \"Run\", \"kudos_count\": 13, \"start_date_local\": \"2024-06-22T00:00:00\", \"moving_time\": 1904, \"elapsed_time\": 1937, \"distance\": 5.206300258636475, \"custom_caption_flag\": 0}, {\"name\": \"Afternoon Run\", \"type\": \"Run\", \"kudos_count\": 8, \"start_date_local\": \"2024-06-26T00:00:00\", \"moving_time\": 1919, \"elapsed_time\": 2143, \"distance\": 5.019000053405762, \"custom_caption_flag\": 0}, {\"name\": \"Morning Run\", \"type\": \"Run\", \"kudos_count\": 13, \"start_date_local\": \"2024-06-28T00:00:00\", \"moving_time\": 2965, \"elapsed_time\": 3115, \"distance\": 8.009600639343262, \"custom_caption_flag\": 0}, {\"name\": \"Morning Run\", \"type\": \"Run\", \"kudos_count\": 13, \"start_date_local\": \"2024-07-01T00:00:00\", \"moving_time\": 1831, \"elapsed_time\": 1831, \"distance\": 5.005800247192383, \"custom_caption_flag\": 0}, {\"name\": \"Morning Run\", \"type\": \"Run\", \"kudos_count\": 11, \"start_date_local\": \"2024-07-03T00:00:00\", \"moving_time\": 2937, \"elapsed_time\": 3392, \"distance\": 8.010200500488281, \"custom_caption_flag\": 0}, {\"name\": \"Milan Airport: Heat 1\", \"type\": \"Run\", \"kudos_count\": 9, \"start_date_local\": \"2024-07-08T00:00:00\", \"moving_time\": 38, \"elapsed_time\": 38, \"distance\": 0.027400000020861626, \"custom_caption_flag\": 1}, {\"name\": \"Morning Run\", \"type\": \"Run\", \"kudos_count\": 7, \"start_date_local\": \"2024-07-08T00:00:00\", \"moving_time\": 2035, \"elapsed_time\": 2080, \"distance\": 5.2621002197265625, \"custom_caption_flag\": 0}, {\"name\": \"Evening Run\", \"type\": \"Run\", \"kudos_count\": 14, \"start_date_local\": \"2024-07-15T00:00:00\", \"moving_time\": 2580, \"elapsed_time\": 2640, \"distance\": 6.006100177764893, \"custom_caption_flag\": 0}, {\"name\": \"Morning Run\", \"type\": \"Run\", \"kudos_count\": 18, \"start_date_local\": \"2024-07-20T00:00:00\", \"moving_time\": 2353, \"elapsed_time\": 2390, \"distance\": 5.128500461578369, \"custom_caption_flag\": 0}, {\"name\": \"Evening Run\", \"type\": \"Run\", \"kudos_count\": 17, \"start_date_local\": \"2024-07-22T00:00:00\", \"moving_time\": 2983, \"elapsed_time\": 3102, \"distance\": 8.005300521850586, \"custom_caption_flag\": 0}, {\"name\": \"reconnecting with nature\", \"type\": \"Run\", \"kudos_count\": 22, \"start_date_local\": \"2024-07-23T00:00:00\", \"moving_time\": 3355, \"elapsed_time\": 3674, \"distance\": 9.00979995727539, \"custom_caption_flag\": 1}, {\"name\": \"Cutting it close to my meeting\", \"type\": \"Run\", \"kudos_count\": 14, \"start_date_local\": \"2024-07-24T00:00:00\", \"moving_time\": 3270, \"elapsed_time\": 3779, \"distance\": 8.026800155639648, \"custom_caption_flag\": 1}, {\"name\": \"Morning Run\", \"type\": \"Run\", \"kudos_count\": 11, \"start_date_local\": \"2024-07-27T00:00:00\", \"moving_time\": 2392, \"elapsed_time\": 2517, \"distance\": 6.234000205993652, \"custom_caption_flag\": 0}, {\"name\": \"Evening Run\", \"type\": \"Run\", \"kudos_count\": 9, \"start_date_local\": \"2024-07-29T00:00:00\", \"moving_time\": 1664, \"elapsed_time\": 1765, \"distance\": 4.3072004318237305, \"custom_caption_flag\": 0}, {\"name\": \"Afternoon Run\", \"type\": \"Run\", \"kudos_count\": 7, \"start_date_local\": \"2024-07-29T00:00:00\", \"moving_time\": 1652, \"elapsed_time\": 1799, \"distance\": 4.396600246429443, \"custom_caption_flag\": 0}, {\"name\": \"Afternoon Run\", \"type\": \"Run\", \"kudos_count\": 12, \"start_date_local\": \"2024-07-31T00:00:00\", \"moving_time\": 2372, \"elapsed_time\": 2631, \"distance\": 5.073200225830078, \"custom_caption_flag\": 0}, {\"name\": \"worst route setting goes to me\", \"type\": \"Run\", \"kudos_count\": 22, \"start_date_local\": \"2024-07-31T00:00:00\", \"moving_time\": 2254, \"elapsed_time\": 2414, \"distance\": 5.3886003494262695, \"custom_caption_flag\": 1}, {\"name\": \"Morning Run\", \"type\": \"Run\", \"kudos_count\": 18, \"start_date_local\": \"2024-08-02T00:00:00\", \"moving_time\": 3419, \"elapsed_time\": 3588, \"distance\": 9.504300117492676, \"custom_caption_flag\": 0}, {\"name\": \"Morning Run\", \"type\": \"Run\", \"kudos_count\": 11, \"start_date_local\": \"2024-08-03T00:00:00\", \"moving_time\": 2353, \"elapsed_time\": 2654, \"distance\": 5.178100109100342, \"custom_caption_flag\": 0}, {\"name\": \"Afternoon Run\", \"type\": \"Run\", \"kudos_count\": 12, \"start_date_local\": \"2024-08-05T00:00:00\", \"moving_time\": 4963, \"elapsed_time\": 5143, \"distance\": 12.501200675964355, \"custom_caption_flag\": 0}, {\"name\": \"Afternoon Run\", \"type\": \"Run\", \"kudos_count\": 10, \"start_date_local\": \"2024-08-06T00:00:00\", \"moving_time\": 1513, \"elapsed_time\": 1529, \"distance\": 4.004000186920166, \"custom_caption_flag\": 0}, {\"name\": \"Afternoon Run\", \"type\": \"Run\", \"kudos_count\": 10, \"start_date_local\": \"2024-08-08T00:00:00\", \"moving_time\": 5499, \"elapsed_time\": 5874, \"distance\": 15.003300666809082, \"custom_caption_flag\": 0}, {\"name\": \"Evening Run\", \"type\": \"Run\", \"kudos_count\": 22, \"start_date_local\": \"2024-08-11T00:00:00\", \"moving_time\": 2934, \"elapsed_time\": 3048, \"distance\": 8.009100914001465, \"custom_caption_flag\": 0}, {\"name\": \"Afternoon Run\", \"type\": \"Run\", \"kudos_count\": 10, \"start_date_local\": \"2024-08-12T00:00:00\", \"moving_time\": 1907, \"elapsed_time\": 2110, \"distance\": 5.012200355529785, \"custom_caption_flag\": 0}, {\"name\": \"\\ud83c\\udf33\", \"type\": \"Run\", \"kudos_count\": 14, \"start_date_local\": \"2024-08-13T00:00:00\", \"moving_time\": 2958, \"elapsed_time\": 3075, \"distance\": 8.208900451660156, \"custom_caption_flag\": 1}, {\"name\": \"forgot my watch\", \"type\": \"Run\", \"kudos_count\": 11, \"start_date_local\": \"2024-08-15T00:00:00\", \"moving_time\": 1334, \"elapsed_time\": 1379, \"distance\": 4.008800029754639, \"custom_caption_flag\": 1}, {\"name\": \"so many dux\", \"type\": \"Run\", \"kudos_count\": 14, \"start_date_local\": \"2024-08-18T00:00:00\", \"moving_time\": 2684, \"elapsed_time\": 3011, \"distance\": 7.207799911499023, \"custom_caption_flag\": 1}, {\"name\": \"Morning Run\", \"type\": \"Run\", \"kudos_count\": 13, \"start_date_local\": \"2024-08-20T00:00:00\", \"moving_time\": 1949, \"elapsed_time\": 1949, \"distance\": 5.0, \"custom_caption_flag\": 0}, {\"name\": \"Afternoon Run\", \"type\": \"Run\", \"kudos_count\": 12, \"start_date_local\": \"2024-08-22T00:00:00\", \"moving_time\": 2395, \"elapsed_time\": 2678, \"distance\": 7.012600421905518, \"custom_caption_flag\": 0}, {\"name\": \"Morning Run\", \"type\": \"Run\", \"kudos_count\": 5, \"start_date_local\": \"2024-08-31T00:00:00\", \"moving_time\": 1250, \"elapsed_time\": 1303, \"distance\": 3.6603002548217773, \"custom_caption_flag\": 0}, {\"name\": \"Evening Run\", \"type\": \"Run\", \"kudos_count\": 14, \"start_date_local\": \"2024-09-03T00:00:00\", \"moving_time\": 2197, \"elapsed_time\": 2202, \"distance\": 6.008100509643555, \"custom_caption_flag\": 0}, {\"name\": \"adjust\", \"type\": \"Run\", \"kudos_count\": 0, \"start_date_local\": \"2024-09-07T00:00:00\", \"moving_time\": 180, \"elapsed_time\": 180, \"distance\": 0.5, \"custom_caption_flag\": 1}, {\"name\": \"Lakes\", \"type\": \"Run\", \"kudos_count\": 15, \"start_date_local\": \"2024-09-07T00:00:00\", \"moving_time\": 2296, \"elapsed_time\": 2666, \"distance\": 6.043400287628174, \"custom_caption_flag\": 1}, {\"name\": \"Lunch Run\", \"type\": \"Run\", \"kudos_count\": 14, \"start_date_local\": \"2024-09-10T00:00:00\", \"moving_time\": 3054, \"elapsed_time\": 3100, \"distance\": 8.003700256347656, \"custom_caption_flag\": 0}, {\"name\": \"Evening Run\", \"type\": \"Run\", \"kudos_count\": 15, \"start_date_local\": \"2024-09-12T00:00:00\", \"moving_time\": 2539, \"elapsed_time\": 2860, \"distance\": 6.702800273895264, \"custom_caption_flag\": 0}, {\"name\": \"Evening Run\", \"type\": \"Run\", \"kudos_count\": 15, \"start_date_local\": \"2024-09-13T00:00:00\", \"moving_time\": 2433, \"elapsed_time\": 2862, \"distance\": 6.607000350952148, \"custom_caption_flag\": 0}, {\"name\": \"naked run\", \"type\": \"Run\", \"kudos_count\": 23, \"start_date_local\": \"2024-09-17T00:00:00\", \"moving_time\": 3177, \"elapsed_time\": 3320, \"distance\": 8.407401084899902, \"custom_caption_flag\": 1}, {\"name\": \"Lunch Run\", \"type\": \"Run\", \"kudos_count\": 14, \"start_date_local\": \"2024-09-19T00:00:00\", \"moving_time\": 2777, \"elapsed_time\": 2904, \"distance\": 7.105700492858887, \"custom_caption_flag\": 0}, {\"name\": \"Afternoon Run\", \"type\": \"Run\", \"kudos_count\": 15, \"start_date_local\": \"2024-09-20T00:00:00\", \"moving_time\": 1676, \"elapsed_time\": 1785, \"distance\": 4.501700401306152, \"custom_caption_flag\": 0}, {\"name\": \"u aint ever ran Vitality 10k in a tux\", \"type\": \"Run\", \"kudos_count\": 42, \"start_date_local\": \"2024-09-22T00:00:00\", \"moving_time\": 4489, \"elapsed_time\": 4609, \"distance\": 9.995100021362305, \"custom_caption_flag\": 1}, {\"name\": \"Evening Run\", \"type\": \"Run\", \"kudos_count\": 13, \"start_date_local\": \"2024-09-23T00:00:00\", \"moving_time\": 1159, \"elapsed_time\": 1208, \"distance\": 3.015200138092041, \"custom_caption_flag\": 0}, {\"name\": \"Evening Run\", \"type\": \"Run\", \"kudos_count\": 9, \"start_date_local\": \"2024-09-23T00:00:00\", \"moving_time\": 1274, \"elapsed_time\": 1329, \"distance\": 3.4001002311706543, \"custom_caption_flag\": 0}, {\"name\": \"Not made out of sugar\", \"type\": \"Run\", \"kudos_count\": 25, \"start_date_local\": \"2024-09-27T00:00:00\", \"moving_time\": 3899, \"elapsed_time\": 4299, \"distance\": 11.385400772094727, \"custom_caption_flag\": 1}, {\"name\": \"stomach moving mad \\ud83e\\udd72\", \"type\": \"Run\", \"kudos_count\": 13, \"start_date_local\": \"2024-09-30T00:00:00\", \"moving_time\": 1586, \"elapsed_time\": 1666, \"distance\": 4.314500331878662, \"custom_caption_flag\": 1}, {\"name\": \"tesco run\", \"type\": \"Run\", \"kudos_count\": 11, \"start_date_local\": \"2024-10-02T00:00:00\", \"moving_time\": 986, \"elapsed_time\": 1086, \"distance\": 2.7243001461029053, \"custom_caption_flag\": 1}, {\"name\": \"Afternoon Run\", \"type\": \"Run\", \"kudos_count\": 17, \"start_date_local\": \"2024-10-03T00:00:00\", \"moving_time\": 2454, \"elapsed_time\": 2532, \"distance\": 7.002300262451172, \"custom_caption_flag\": 0}, {\"name\": \"Evening Run\", \"type\": \"Run\", \"kudos_count\": 19, \"start_date_local\": \"2024-10-04T00:00:00\", \"moving_time\": 5427, \"elapsed_time\": 5866, \"distance\": 15.004000663757324, \"custom_caption_flag\": 0}, {\"name\": \"Evening Run\", \"type\": \"Run\", \"kudos_count\": 11, \"start_date_local\": \"2024-10-07T00:00:00\", \"moving_time\": 3253, \"elapsed_time\": 3389, \"distance\": 9.012900352478027, \"custom_caption_flag\": 0}, {\"name\": \"Evening Run\", \"type\": \"Run\", \"kudos_count\": 12, \"start_date_local\": \"2024-10-09T00:00:00\", \"moving_time\": 1105, \"elapsed_time\": 1118, \"distance\": 2.60010027885437, \"custom_caption_flag\": 0}, {\"name\": \"perfect weather\", \"type\": \"Run\", \"kudos_count\": 12, \"start_date_local\": \"2024-10-11T00:00:00\", \"moving_time\": 1987, \"elapsed_time\": 2062, \"distance\": 5.60420036315918, \"custom_caption_flag\": 1}, {\"name\": \"Run until you spot a running influencer\", \"type\": \"Run\", \"kudos_count\": 24, \"start_date_local\": \"2024-10-12T00:00:00\", \"moving_time\": 5477, \"elapsed_time\": 5823, \"distance\": 15.020200729370117, \"custom_caption_flag\": 1}, {\"name\": \"reject modernity embrace tradition\", \"type\": \"Run\", \"kudos_count\": 14, \"start_date_local\": \"2024-10-18T00:00:00\", \"moving_time\": 2996, \"elapsed_time\": 3079, \"distance\": 8.011300086975098, \"custom_caption_flag\": 1}, {\"name\": \"Afternoon Run\", \"type\": \"Run\", \"kudos_count\": 24, \"start_date_local\": \"2024-10-19T00:00:00\", \"moving_time\": 7567, \"elapsed_time\": 8904, \"distance\": 20.505001068115234, \"custom_caption_flag\": 0}, {\"name\": \"Afternoon Run\", \"type\": \"Run\", \"kudos_count\": 15, \"start_date_local\": \"2024-10-23T00:00:00\", \"moving_time\": 3699, \"elapsed_time\": 4481, \"distance\": 10.215300559997559, \"custom_caption_flag\": 0}, {\"name\": \"Evening Run\", \"type\": \"Run\", \"kudos_count\": 13, \"start_date_local\": \"2024-10-25T00:00:00\", \"moving_time\": 2817, \"elapsed_time\": 2942, \"distance\": 7.666500568389893, \"custom_caption_flag\": 0}, {\"name\": \"snuck in a run despite being chased by an alligator\", \"type\": \"Run\", \"kudos_count\": 19, \"start_date_local\": \"2024-10-27T00:00:00\", \"moving_time\": 3552, \"elapsed_time\": 3847, \"distance\": 10.016000747680664, \"custom_caption_flag\": 1}, {\"name\": \"checking on east london\", \"type\": \"Run\", \"kudos_count\": 28, \"start_date_local\": \"2024-10-28T00:00:00\", \"moving_time\": 6403, \"elapsed_time\": 7009, \"distance\": 17.506601333618164, \"custom_caption_flag\": 1}, {\"name\": \"No mention of Strava Tax at all...\", \"type\": \"Run\", \"kudos_count\": 25, \"start_date_local\": \"2024-10-30T00:00:00\", \"moving_time\": 3915, \"elapsed_time\": 4068, \"distance\": 10.503400802612305, \"custom_caption_flag\": 1}, {\"name\": \"Afternoon Run\", \"type\": \"Run\", \"kudos_count\": 15, \"start_date_local\": \"2024-11-04T00:00:00\", \"moving_time\": 2891, \"elapsed_time\": 3212, \"distance\": 8.005500793457031, \"custom_caption_flag\": 0}, {\"name\": \"Dear Cyclists\", \"type\": \"Run\", \"kudos_count\": 15, \"start_date_local\": \"2024-11-06T00:00:00\", \"moving_time\": 2877, \"elapsed_time\": 3275, \"distance\": 8.016500473022461, \"custom_caption_flag\": 1}, {\"name\": \"rest of the w/o\", \"type\": \"Run\", \"kudos_count\": 11, \"start_date_local\": \"2024-11-07T00:00:00\", \"moving_time\": 3010, \"elapsed_time\": 3045, \"distance\": 9.000901222229004, \"custom_caption_flag\": 1}, {\"name\": \"forgot to turn off auto lap\", \"type\": \"Run\", \"kudos_count\": 15, \"start_date_local\": \"2024-11-07T00:00:00\", \"moving_time\": 1141, \"elapsed_time\": 1141, \"distance\": 3.1998002529144287, \"custom_caption_flag\": 1}, {\"name\": \"Morning Run\", \"type\": \"Run\", \"kudos_count\": 25, \"start_date_local\": \"2024-11-09T00:00:00\", \"moving_time\": 4888, \"elapsed_time\": 5084, \"distance\": 14.104400634765625, \"custom_caption_flag\": 0}, {\"name\": \"Morning Run\", \"type\": \"Run\", \"kudos_count\": 17, \"start_date_local\": \"2024-11-12T00:00:00\", \"moving_time\": 1830, \"elapsed_time\": 1984, \"distance\": 5.087800025939941, \"custom_caption_flag\": 0}, {\"name\": \"Lunch Run\", \"type\": \"Run\", \"kudos_count\": 16, \"start_date_local\": \"2024-11-13T00:00:00\", \"moving_time\": 3373, \"elapsed_time\": 3648, \"distance\": 9.400900840759277, \"custom_caption_flag\": 0}, {\"name\": \"Evening Run\", \"type\": \"Run\", \"kudos_count\": 13, \"start_date_local\": \"2024-11-14T00:00:00\", \"moving_time\": 5021, \"elapsed_time\": 5234, \"distance\": 14.00320053100586, \"custom_caption_flag\": 0}, {\"name\": \"Morning Run\", \"type\": \"Run\", \"kudos_count\": 18, \"start_date_local\": \"2024-11-16T00:00:00\", \"moving_time\": 3054, \"elapsed_time\": 3535, \"distance\": 9.016000747680664, \"custom_caption_flag\": 0}, {\"name\": \"adj\", \"type\": \"Run\", \"kudos_count\": 0, \"start_date_local\": \"2024-11-16T00:00:00\", \"moving_time\": 192, \"elapsed_time\": 192, \"distance\": 0.800000011920929, \"custom_caption_flag\": 1}, {\"name\": \"Morning Run\", \"type\": \"Run\", \"kudos_count\": 11, \"start_date_local\": \"2024-11-16T00:00:00\", \"moving_time\": 2095, \"elapsed_time\": 2260, \"distance\": 5.818200588226318, \"custom_caption_flag\": 0}, {\"name\": \"running with a backpack is bad vibes\", \"type\": \"Run\", \"kudos_count\": 18, \"start_date_local\": \"2024-11-20T00:00:00\", \"moving_time\": 5802, \"elapsed_time\": 6512, \"distance\": 15.300300598144531, \"custom_caption_flag\": 1}, {\"name\": \"We Have Witnessed Bloody Murder, Soz Lol\", \"type\": \"Run\", \"kudos_count\": 17, \"start_date_local\": \"2024-11-22T00:00:00\", \"moving_time\": 2890, \"elapsed_time\": 3207, \"distance\": 7.699000358581543, \"custom_caption_flag\": 1}, {\"name\": \"@ storm bert\", \"type\": \"Run\", \"kudos_count\": 18, \"start_date_local\": \"2024-11-23T00:00:00\", \"moving_time\": 4461, \"elapsed_time\": 4546, \"distance\": 14.498800277709961, \"custom_caption_flag\": 1}, {\"name\": \"Morning Run\", \"type\": \"Run\", \"kudos_count\": 12, \"start_date_local\": \"2024-11-25T00:00:00\", \"moving_time\": 3526, \"elapsed_time\": 3654, \"distance\": 10.008500099182129, \"custom_caption_flag\": 0}, {\"name\": \"Track closed\", \"type\": \"Run\", \"kudos_count\": 13, \"start_date_local\": \"2024-11-26T00:00:00\", \"moving_time\": 3135, \"elapsed_time\": 3330, \"distance\": 10.00730037689209, \"custom_caption_flag\": 1}, {\"name\": \"Morning Run\", \"type\": \"Run\", \"kudos_count\": 7, \"start_date_local\": \"2024-11-26T00:00:00\", \"moving_time\": 1161, \"elapsed_time\": 1166, \"distance\": 3.2765002250671387, \"custom_caption_flag\": 0}, {\"name\": \"Lunch Run\", \"type\": \"Run\", \"kudos_count\": 15, \"start_date_local\": \"2024-11-28T00:00:00\", \"moving_time\": 3791, \"elapsed_time\": 4122, \"distance\": 11.631600379943848, \"custom_caption_flag\": 0}, {\"name\": \"late for yoga\", \"type\": \"Run\", \"kudos_count\": 5, \"start_date_local\": \"2024-11-29T00:00:00\", \"moving_time\": 346, \"elapsed_time\": 349, \"distance\": 1.1800000667572021, \"custom_caption_flag\": 1}, {\"name\": \"Afternoon Run\", \"type\": \"Run\", \"kudos_count\": 11, \"start_date_local\": \"2024-11-29T00:00:00\", \"moving_time\": 1778, \"elapsed_time\": 1926, \"distance\": 4.9511003494262695, \"custom_caption_flag\": 0}, {\"name\": \"Lunch Run\", \"type\": \"Run\", \"kudos_count\": 7, \"start_date_local\": \"2024-12-02T00:00:00\", \"moving_time\": 2864, \"elapsed_time\": 2948, \"distance\": 8.011200904846191, \"custom_caption_flag\": 0}, {\"name\": \"Afternoon Run\", \"type\": \"Run\", \"kudos_count\": 6, \"start_date_local\": \"2024-12-03T00:00:00\", \"moving_time\": 1006, \"elapsed_time\": 1015, \"distance\": 2.8762001991271973, \"custom_caption_flag\": 0}, {\"name\": \"ffs pressed save by accident\", \"type\": \"Run\", \"kudos_count\": 11, \"start_date_local\": \"2024-12-03T00:00:00\", \"moving_time\": 2700, \"elapsed_time\": 2946, \"distance\": 8.767000198364258, \"custom_caption_flag\": 1}, {\"name\": \"POV of the mixed shawarma in my stomach:\", \"type\": \"Run\", \"kudos_count\": 10, \"start_date_local\": \"2024-12-04T00:00:00\", \"moving_time\": 2862, \"elapsed_time\": 3216, \"distance\": 7.752500534057617, \"custom_caption_flag\": 1}, {\"name\": \"pre-run snack\", \"type\": \"Run\", \"kudos_count\": 21, \"start_date_local\": \"2024-12-07T00:00:00\", \"moving_time\": 5319, \"elapsed_time\": 5659, \"distance\": 14.008100509643555, \"custom_caption_flag\": 1}, {\"name\": \"Afternoon Run\", \"type\": \"Run\", \"kudos_count\": 13, \"start_date_local\": \"2024-12-10T00:00:00\", \"moving_time\": 3744, \"elapsed_time\": 3859, \"distance\": 10.001900672912598, \"custom_caption_flag\": 0}, {\"name\": \"Lunch Run\", \"type\": \"Run\", \"kudos_count\": 15, \"start_date_local\": \"2024-12-12T00:00:00\", \"moving_time\": 4598, \"elapsed_time\": 4648, \"distance\": 13.51830005645752, \"custom_caption_flag\": 0}, {\"name\": \"Evening Run\", \"type\": \"Run\", \"kudos_count\": 7, \"start_date_local\": \"2024-12-13T00:00:00\", \"moving_time\": 3402, \"elapsed_time\": 3498, \"distance\": 8.803000450134277, \"custom_caption_flag\": 0}]}}, {\"mode\": \"vega-lite\"});\n",
       "</script>"
      ],
      "text/plain": [
       "alt.Chart(...)"
      ]
     },
     "execution_count": 22,
     "metadata": {},
     "output_type": "execute_result"
    }
   ],
   "source": [
    "caption_analysis_run = caption_analysis.filter(col(\"type\") == \"Run\").collect()\n",
    "\n",
    "# building the chart - run\n",
    "chart_run = alt.Chart(caption_analysis_run).mark_point().encode(\n",
    "    alt.X(\"distance:Q\").title(\"distance ran (km)\"),\n",
    "    alt.Y(\"kudos_count:Q\").title(\"number of kudos\"),\n",
    "    alt.Color(\"custom_caption_flag:N\", \n",
    "              title=\"custom caption used?\", \n",
    "              scale=alt.Scale(domain=[\"Yes\", \"No\"], range=[\"#ff6a00\", \"#9cd0f7\"])),  \n",
    "    tooltip=\"start_date_local:T\",\n",
    ").transform_calculate(\n",
    "    custom_caption_flag=\"datum.custom_caption_flag == 1 ? 'Yes':'No'\"\n",
    ").configure_point(\n",
    "    size=50,\n",
    "    filled=True\n",
    ").properties(\n",
    "    width=400,\n",
    "    height=400,\n",
    "    title=alt.TitleParams(\n",
    "        text=\"Distance Ran vs. Kudos Received\",\n",
    "        subtitle=\"Pearson's R = 0.56\")\n",
    ").interactive()\n",
    "\n",
    "chart_run"
   ]
  },
  {
   "cell_type": "code",
   "execution_count": 10,
   "metadata": {},
   "outputs": [
    {
     "data": {
      "text/html": [
       "<div><style>\n",
       ".dataframe > thead > tr,\n",
       ".dataframe > tbody > tr {\n",
       "  text-align: right;\n",
       "  white-space: pre-wrap;\n",
       "}\n",
       "</style>\n",
       "<small>shape: (1, 1)</small><table border=\"1\" class=\"dataframe\"><thead><tr><th>distance</th></tr><tr><td>f64</td></tr></thead><tbody><tr><td>0.561919</td></tr></tbody></table></div>"
      ],
      "text/plain": [
       "shape: (1, 1)\n",
       "┌──────────┐\n",
       "│ distance │\n",
       "│ ---      │\n",
       "│ f64      │\n",
       "╞══════════╡\n",
       "│ 0.561919 │\n",
       "└──────────┘"
      ]
     },
     "execution_count": 10,
     "metadata": {},
     "output_type": "execute_result"
    }
   ],
   "source": [
    "corr = caption_analysis_run.select(pl.corr(\"distance\", \"kudos_count\", method=\"pearson\"))\n",
    "corr"
   ]
  },
  {
   "cell_type": "code",
   "execution_count": 26,
   "metadata": {},
   "outputs": [
    {
     "data": {
      "text/html": [
       "\n",
       "<style>\n",
       "  #altair-viz-d48612190a484367b06292b8e9b2c90d.vega-embed {\n",
       "    width: 100%;\n",
       "    display: flex;\n",
       "  }\n",
       "\n",
       "  #altair-viz-d48612190a484367b06292b8e9b2c90d.vega-embed details,\n",
       "  #altair-viz-d48612190a484367b06292b8e9b2c90d.vega-embed details summary {\n",
       "    position: relative;\n",
       "  }\n",
       "</style>\n",
       "<div id=\"altair-viz-d48612190a484367b06292b8e9b2c90d\"></div>\n",
       "<script type=\"text/javascript\">\n",
       "  var VEGA_DEBUG = (typeof VEGA_DEBUG == \"undefined\") ? {} : VEGA_DEBUG;\n",
       "  (function(spec, embedOpt){\n",
       "    let outputDiv = document.currentScript.previousElementSibling;\n",
       "    if (outputDiv.id !== \"altair-viz-d48612190a484367b06292b8e9b2c90d\") {\n",
       "      outputDiv = document.getElementById(\"altair-viz-d48612190a484367b06292b8e9b2c90d\");\n",
       "    }\n",
       "\n",
       "    const paths = {\n",
       "      \"vega\": \"https://cdn.jsdelivr.net/npm/vega@5?noext\",\n",
       "      \"vega-lib\": \"https://cdn.jsdelivr.net/npm/vega-lib?noext\",\n",
       "      \"vega-lite\": \"https://cdn.jsdelivr.net/npm/vega-lite@5.20.1?noext\",\n",
       "      \"vega-embed\": \"https://cdn.jsdelivr.net/npm/vega-embed@6?noext\",\n",
       "    };\n",
       "\n",
       "    function maybeLoadScript(lib, version) {\n",
       "      var key = `${lib.replace(\"-\", \"\")}_version`;\n",
       "      return (VEGA_DEBUG[key] == version) ?\n",
       "        Promise.resolve(paths[lib]) :\n",
       "        new Promise(function(resolve, reject) {\n",
       "          var s = document.createElement('script');\n",
       "          document.getElementsByTagName(\"head\")[0].appendChild(s);\n",
       "          s.async = true;\n",
       "          s.onload = () => {\n",
       "            VEGA_DEBUG[key] = version;\n",
       "            return resolve(paths[lib]);\n",
       "          };\n",
       "          s.onerror = () => reject(`Error loading script: ${paths[lib]}`);\n",
       "          s.src = paths[lib];\n",
       "        });\n",
       "    }\n",
       "\n",
       "    function showError(err) {\n",
       "      outputDiv.innerHTML = `<div class=\"error\" style=\"color:red;\">${err}</div>`;\n",
       "      throw err;\n",
       "    }\n",
       "\n",
       "    function displayChart(vegaEmbed) {\n",
       "      vegaEmbed(outputDiv, spec, embedOpt)\n",
       "        .catch(err => showError(`Javascript Error: ${err.message}<br>This usually means there's a typo in your chart specification. See the javascript console for the full traceback.`));\n",
       "    }\n",
       "\n",
       "    if(typeof define === \"function\" && define.amd) {\n",
       "      requirejs.config({paths});\n",
       "      let deps = [\"vega-embed\"];\n",
       "      require(deps, displayChart, err => showError(`Error loading script: ${err.message}`));\n",
       "    } else {\n",
       "      maybeLoadScript(\"vega\", \"5\")\n",
       "        .then(() => maybeLoadScript(\"vega-lite\", \"5.20.1\"))\n",
       "        .then(() => maybeLoadScript(\"vega-embed\", \"6\"))\n",
       "        .catch(showError)\n",
       "        .then(() => displayChart(vegaEmbed));\n",
       "    }\n",
       "  })({\"config\": {\"view\": {\"continuousWidth\": 300, \"continuousHeight\": 300}, \"point\": {\"filled\": true, \"size\": 50}}, \"data\": {\"name\": \"data-7ec3dee433818f48f816f1c3ac1b882c\"}, \"mark\": {\"type\": \"point\"}, \"encoding\": {\"color\": {\"field\": \"custom_caption_flag\", \"scale\": {\"domain\": [\"Yes\", \"No\"], \"range\": [\"#ff6a00\", \"#9cd0f7\"]}, \"title\": \"custom caption used?\", \"type\": \"nominal\"}, \"tooltip\": {\"field\": \"start_date_local\", \"type\": \"temporal\"}, \"x\": {\"field\": \"distance\", \"title\": \"distance biked (km)\", \"type\": \"quantitative\"}, \"y\": {\"field\": \"kudos_count\", \"title\": \"number of kudos\", \"type\": \"quantitative\"}}, \"height\": 400, \"params\": [{\"name\": \"param_16\", \"select\": {\"type\": \"interval\", \"encodings\": [\"x\", \"y\"]}, \"bind\": \"scales\"}], \"title\": {\"text\": \"Distance Rode vs. Kudos Received\", \"subtitle\": \"Pearson's R = 0.69\"}, \"transform\": [{\"calculate\": \"datum.custom_caption_flag == 1 ? 'Yes':'No'\", \"as\": \"custom_caption_flag\"}], \"width\": 400, \"$schema\": \"https://vega.github.io/schema/vega-lite/v5.20.1.json\", \"datasets\": {\"data-7ec3dee433818f48f816f1c3ac1b882c\": [{\"name\": \"cross training\", \"type\": \"Ride\", \"kudos_count\": 13, \"start_date_local\": \"2024-01-08T00:00:00\", \"moving_time\": 2720, \"elapsed_time\": 2720, \"distance\": 0.0, \"custom_caption_flag\": 1}, {\"name\": \"Evening Workout\", \"type\": \"Ride\", \"kudos_count\": 10, \"start_date_local\": \"2024-01-10T00:00:00\", \"moving_time\": 1804, \"elapsed_time\": 1804, \"distance\": 0.0, \"custom_caption_flag\": 0}, {\"name\": \"Morning Ride\", \"type\": \"Ride\", \"kudos_count\": 11, \"start_date_local\": \"2024-01-10T00:00:00\", \"moving_time\": 723, \"elapsed_time\": 934, \"distance\": 3.638400077819824, \"custom_caption_flag\": 0}, {\"name\": \"Afternoon Ride\", \"type\": \"Ride\", \"kudos_count\": 17, \"start_date_local\": \"2024-01-14T00:00:00\", \"moving_time\": 696, \"elapsed_time\": 1323, \"distance\": 1.6170001029968262, \"custom_caption_flag\": 0}, {\"name\": \"Afternoon Workout\", \"type\": \"Ride\", \"kudos_count\": 9, \"start_date_local\": \"2024-01-19T00:00:00\", \"moving_time\": 2705, \"elapsed_time\": 2705, \"distance\": 0.0, \"custom_caption_flag\": 0}, {\"name\": \"Afternoon Workout\", \"type\": \"Ride\", \"kudos_count\": 7, \"start_date_local\": \"2024-01-22T00:00:00\", \"moving_time\": 1809, \"elapsed_time\": 1809, \"distance\": 0.0, \"custom_caption_flag\": 0}, {\"name\": \"Afternoon Workout\", \"type\": \"Ride\", \"kudos_count\": 7, \"start_date_local\": \"2024-01-29T00:00:00\", \"moving_time\": 1810, \"elapsed_time\": 1810, \"distance\": 0.0, \"custom_caption_flag\": 0}, {\"name\": \"Evening Workout\", \"type\": \"Ride\", \"kudos_count\": 6, \"start_date_local\": \"2024-01-30T00:00:00\", \"moving_time\": 1805, \"elapsed_time\": 1805, \"distance\": 0.0, \"custom_caption_flag\": 0}, {\"name\": \"Morning Ride\", \"type\": \"Ride\", \"kudos_count\": 13, \"start_date_local\": \"2024-04-23T00:00:00\", \"moving_time\": 1506, \"elapsed_time\": 1903, \"distance\": 7.320800304412842, \"custom_caption_flag\": 0}, {\"name\": \"Afternoon Ride\", \"type\": \"Ride\", \"kudos_count\": 19, \"start_date_local\": \"2024-04-28T00:00:00\", \"moving_time\": 229, \"elapsed_time\": 229, \"distance\": 2.0661001205444336, \"custom_caption_flag\": 0}, {\"name\": \"Wandle trail with EG\", \"type\": \"Ride\", \"kudos_count\": 18, \"start_date_local\": \"2024-05-05T00:00:00\", \"moving_time\": 2926, \"elapsed_time\": 3740, \"distance\": 10.03380012512207, \"custom_caption_flag\": 1}, {\"name\": \"Night Ride\", \"type\": \"Ride\", \"kudos_count\": 8, \"start_date_local\": \"2024-05-16T00:00:00\", \"moving_time\": 1505, \"elapsed_time\": 1602, \"distance\": 7.220100402832031, \"custom_caption_flag\": 1}, {\"name\": \"Afternoon Ride\", \"type\": \"Ride\", \"kudos_count\": 10, \"start_date_local\": \"2024-05-16T00:00:00\", \"moving_time\": 1431, \"elapsed_time\": 1593, \"distance\": 7.219100475311279, \"custom_caption_flag\": 0}, {\"name\": \"Morning Ride\", \"type\": \"Ride\", \"kudos_count\": 18, \"start_date_local\": \"2024-05-22T00:00:00\", \"moving_time\": 3107, \"elapsed_time\": 3655, \"distance\": 15.125100135803223, \"custom_caption_flag\": 0}, {\"name\": \"Evening Ride\", \"type\": \"Ride\", \"kudos_count\": 13, \"start_date_local\": \"2024-05-23T00:00:00\", \"moving_time\": 1379, \"elapsed_time\": 1968, \"distance\": 6.470100402832031, \"custom_caption_flag\": 0}, {\"name\": \"Lunch Ride\", \"type\": \"Ride\", \"kudos_count\": 8, \"start_date_local\": \"2024-05-23T00:00:00\", \"moving_time\": 1420, \"elapsed_time\": 1533, \"distance\": 7.391700744628906, \"custom_caption_flag\": 0}, {\"name\": \"tao tao ju\", \"type\": \"Ride\", \"kudos_count\": 16, \"start_date_local\": \"2024-05-25T00:00:00\", \"moving_time\": 2813, \"elapsed_time\": 3538, \"distance\": 14.646300315856934, \"custom_caption_flag\": 1}, {\"name\": \"Morning Ride\", \"type\": \"Ride\", \"kudos_count\": 14, \"start_date_local\": \"2024-05-26T00:00:00\", \"moving_time\": 1876, \"elapsed_time\": 2067, \"distance\": 8.145500183105469, \"custom_caption_flag\": 0}, {\"name\": \"Evening Ride\", \"type\": \"Ride\", \"kudos_count\": 10, \"start_date_local\": \"2024-05-28T00:00:00\", \"moving_time\": 1588, \"elapsed_time\": 1730, \"distance\": 7.0233001708984375, \"custom_caption_flag\": 0}, {\"name\": \"Morning Ride\", \"type\": \"Ride\", \"kudos_count\": 10, \"start_date_local\": \"2024-05-28T00:00:00\", \"moving_time\": 1498, \"elapsed_time\": 1727, \"distance\": 7.424799919128418, \"custom_caption_flag\": 0}, {\"name\": \"Evening Ride\", \"type\": \"Ride\", \"kudos_count\": 12, \"start_date_local\": \"2024-05-29T00:00:00\", \"moving_time\": 3562, \"elapsed_time\": 4253, \"distance\": 16.835500717163086, \"custom_caption_flag\": 0}, {\"name\": \"riding a brompton to drink lucky saints\", \"type\": \"Ride\", \"kudos_count\": 17, \"start_date_local\": \"2024-05-29T00:00:00\", \"moving_time\": 3651, \"elapsed_time\": 4190, \"distance\": 17.644500732421875, \"custom_caption_flag\": 1}, {\"name\": \"Evening Ride\", \"type\": \"Ride\", \"kudos_count\": 9, \"start_date_local\": \"2024-06-03T00:00:00\", \"moving_time\": 1576, \"elapsed_time\": 1715, \"distance\": 7.294400215148926, \"custom_caption_flag\": 0}, {\"name\": \"2 substation\", \"type\": \"Ride\", \"kudos_count\": 8, \"start_date_local\": \"2024-06-03T00:00:00\", \"moving_time\": 2135, \"elapsed_time\": 2707, \"distance\": 8.816800117492676, \"custom_caption_flag\": 1}, {\"name\": \"Morning Ride\", \"type\": \"Ride\", \"kudos_count\": 16, \"start_date_local\": \"2024-06-03T00:00:00\", \"moving_time\": 3281, \"elapsed_time\": 3574, \"distance\": 15.499500274658203, \"custom_caption_flag\": 0}, {\"name\": \"Evening Ride\", \"type\": \"Ride\", \"kudos_count\": 4, \"start_date_local\": \"2024-06-05T00:00:00\", \"moving_time\": 3612, \"elapsed_time\": 3876, \"distance\": 15.831501007080078, \"custom_caption_flag\": 0}, {\"name\": \"Morning Ride\", \"type\": \"Ride\", \"kudos_count\": 13, \"start_date_local\": \"2024-06-05T00:00:00\", \"moving_time\": 3173, \"elapsed_time\": 3646, \"distance\": 14.880300521850586, \"custom_caption_flag\": 0}, {\"name\": \"Night Ride\", \"type\": \"Ride\", \"kudos_count\": 4, \"start_date_local\": \"2024-06-07T00:00:00\", \"moving_time\": 1734, \"elapsed_time\": 1734, \"distance\": 7.5201005935668945, \"custom_caption_flag\": 1}, {\"name\": \"brompton getting no rest this summer\", \"type\": \"Ride\", \"kudos_count\": 10, \"start_date_local\": \"2024-06-07T00:00:00\", \"moving_time\": 1462, \"elapsed_time\": 1570, \"distance\": 7.633000373840332, \"custom_caption_flag\": 1}, {\"name\": \"born 2 frolick \\ud83d\\ude0e\", \"type\": \"Ride\", \"kudos_count\": 10, \"start_date_local\": \"2024-06-07T00:00:00\", \"moving_time\": 1811, \"elapsed_time\": 2057, \"distance\": 6.828000545501709, \"custom_caption_flag\": 1}, {\"name\": \"Afternoon Ride\", \"type\": \"Ride\", \"kudos_count\": 4, \"start_date_local\": \"2024-06-07T00:00:00\", \"moving_time\": 996, \"elapsed_time\": 1197, \"distance\": 4.788100242614746, \"custom_caption_flag\": 0}, {\"name\": \"bike from track\", \"type\": \"Ride\", \"kudos_count\": 0, \"start_date_local\": \"2024-06-08T00:00:00\", \"moving_time\": 840, \"elapsed_time\": 840, \"distance\": 3.200000047683716, \"custom_caption_flag\": 1}, {\"name\": \"physio and back\", \"type\": \"Ride\", \"kudos_count\": 11, \"start_date_local\": \"2024-06-11T00:00:00\", \"moving_time\": 2580, \"elapsed_time\": 3293, \"distance\": 11.612900733947754, \"custom_caption_flag\": 1}, {\"name\": \"Morning Ride\", \"type\": \"Ride\", \"kudos_count\": 10, \"start_date_local\": \"2024-06-11T00:00:00\", \"moving_time\": 2358, \"elapsed_time\": 2571, \"distance\": 11.487000465393066, \"custom_caption_flag\": 0}, {\"name\": \"Evening Ride\", \"type\": \"Ride\", \"kudos_count\": 12, \"start_date_local\": \"2024-06-12T00:00:00\", \"moving_time\": 3644, \"elapsed_time\": 4057, \"distance\": 16.519001007080078, \"custom_caption_flag\": 0}, {\"name\": \"Morning Ride\", \"type\": \"Ride\", \"kudos_count\": 9, \"start_date_local\": \"2024-06-12T00:00:00\", \"moving_time\": 3250, \"elapsed_time\": 3751, \"distance\": 15.539000511169434, \"custom_caption_flag\": 0}, {\"name\": \"Lunch Ride\", \"type\": \"Ride\", \"kudos_count\": 11, \"start_date_local\": \"2024-06-13T00:00:00\", \"moving_time\": 3851, \"elapsed_time\": 4668, \"distance\": 15.997800827026367, \"custom_caption_flag\": 0}, {\"name\": \"Evening Ride\", \"type\": \"Ride\", \"kudos_count\": 17, \"start_date_local\": \"2024-06-19T00:00:00\", \"moving_time\": 3281, \"elapsed_time\": 3584, \"distance\": 15.332300186157227, \"custom_caption_flag\": 0}, {\"name\": \"Afternoon Ride\", \"type\": \"Ride\", \"kudos_count\": 4, \"start_date_local\": \"2024-06-19T00:00:00\", \"moving_time\": 3343, \"elapsed_time\": 3967, \"distance\": 15.567800521850586, \"custom_caption_flag\": 0}, {\"name\": \"Evening Ride\", \"type\": \"Ride\", \"kudos_count\": 6, \"start_date_local\": \"2024-06-20T00:00:00\", \"moving_time\": 1588, \"elapsed_time\": 1699, \"distance\": 7.52940034866333, \"custom_caption_flag\": 0}, {\"name\": \"Evening Ride\", \"type\": \"Ride\", \"kudos_count\": 4, \"start_date_local\": \"2024-06-20T00:00:00\", \"moving_time\": 1484, \"elapsed_time\": 1655, \"distance\": 7.412700653076172, \"custom_caption_flag\": 0}, {\"name\": \"Afternoon Ride\", \"type\": \"Ride\", \"kudos_count\": 16, \"start_date_local\": \"2024-06-22T00:00:00\", \"moving_time\": 5037, \"elapsed_time\": 5914, \"distance\": 20.091402053833008, \"custom_caption_flag\": 0}, {\"name\": \"Night Ride\", \"type\": \"Ride\", \"kudos_count\": 0, \"start_date_local\": \"2024-06-24T00:00:00\", \"moving_time\": 1692, \"elapsed_time\": 1786, \"distance\": 7.714500427246094, \"custom_caption_flag\": 1}, {\"name\": \"Evening Ride\", \"type\": \"Ride\", \"kudos_count\": 0, \"start_date_local\": \"2024-06-24T00:00:00\", \"moving_time\": 1460, \"elapsed_time\": 1744, \"distance\": 7.167100429534912, \"custom_caption_flag\": 0}, {\"name\": \"Afternoon Ride\", \"type\": \"Ride\", \"kudos_count\": 3, \"start_date_local\": \"2024-06-25T00:00:00\", \"moving_time\": 3593, \"elapsed_time\": 5364, \"distance\": 15.272701263427734, \"custom_caption_flag\": 0}, {\"name\": \"Morning Ride\", \"type\": \"Ride\", \"kudos_count\": 2, \"start_date_local\": \"2024-06-25T00:00:00\", \"moving_time\": 2514, \"elapsed_time\": 2757, \"distance\": 11.824600219726562, \"custom_caption_flag\": 0}, {\"name\": \"Evening Ride\", \"type\": \"Ride\", \"kudos_count\": 5, \"start_date_local\": \"2024-06-26T00:00:00\", \"moving_time\": 2687, \"elapsed_time\": 3873, \"distance\": 12.005599975585938, \"custom_caption_flag\": 0}, {\"name\": \"Morning Ride\", \"type\": \"Ride\", \"kudos_count\": 8, \"start_date_local\": \"2024-06-26T00:00:00\", \"moving_time\": 3387, \"elapsed_time\": 3813, \"distance\": 14.872300148010254, \"custom_caption_flag\": 0}, {\"name\": \"Evening Ride\", \"type\": \"Ride\", \"kudos_count\": 9, \"start_date_local\": \"2024-06-28T00:00:00\", \"moving_time\": 1592, \"elapsed_time\": 1635, \"distance\": 7.447900295257568, \"custom_caption_flag\": 0}, {\"name\": \"Afternoon Ride\", \"type\": \"Ride\", \"kudos_count\": 7, \"start_date_local\": \"2024-06-28T00:00:00\", \"moving_time\": 1378, \"elapsed_time\": 1637, \"distance\": 7.0076003074646, \"custom_caption_flag\": 0}, {\"name\": \"Lunch Ride\", \"type\": \"Ride\", \"kudos_count\": 16, \"start_date_local\": \"2024-06-30T00:00:00\", \"moving_time\": 4258, \"elapsed_time\": 7908, \"distance\": 16.869600296020508, \"custom_caption_flag\": 0}, {\"name\": \"Evening Ride\", \"type\": \"Ride\", \"kudos_count\": 8, \"start_date_local\": \"2024-07-01T00:00:00\", \"moving_time\": 1642, \"elapsed_time\": 1745, \"distance\": 6.550200462341309, \"custom_caption_flag\": 0}, {\"name\": \"Morning Ride\", \"type\": \"Ride\", \"kudos_count\": 7, \"start_date_local\": \"2024-07-01T00:00:00\", \"moving_time\": 1479, \"elapsed_time\": 1607, \"distance\": 6.818000316619873, \"custom_caption_flag\": 0}, {\"name\": \"Afternoon Ride\", \"type\": \"Ride\", \"kudos_count\": 6, \"start_date_local\": \"2024-07-02T00:00:00\", \"moving_time\": 1449, \"elapsed_time\": 1577, \"distance\": 6.8408002853393555, \"custom_caption_flag\": 0}, {\"name\": \"Morning Ride\", \"type\": \"Ride\", \"kudos_count\": 7, \"start_date_local\": \"2024-07-02T00:00:00\", \"moving_time\": 1064, \"elapsed_time\": 1288, \"distance\": 5.1670002937316895, \"custom_caption_flag\": 0}, {\"name\": \"Grim\", \"type\": \"Ride\", \"kudos_count\": 7, \"start_date_local\": \"2024-07-03T00:00:00\", \"moving_time\": 1210, \"elapsed_time\": 1395, \"distance\": 4.469900131225586, \"custom_caption_flag\": 1}, {\"name\": \"Morning Ride\", \"type\": \"Ride\", \"kudos_count\": 5, \"start_date_local\": \"2024-07-03T00:00:00\", \"moving_time\": 1469, \"elapsed_time\": 1957, \"distance\": 6.869800090789795, \"custom_caption_flag\": 0}, {\"name\": \"Afternoon Ride\", \"type\": \"Ride\", \"kudos_count\": 6, \"start_date_local\": \"2024-07-04T00:00:00\", \"moving_time\": 2940, \"elapsed_time\": 3314, \"distance\": 15.231401443481445, \"custom_caption_flag\": 0}, {\"name\": \"Morning Ride\", \"type\": \"Ride\", \"kudos_count\": 12, \"start_date_local\": \"2024-07-07T00:00:00\", \"moving_time\": 5417, \"elapsed_time\": 7075, \"distance\": 26.9497013092041, \"custom_caption_flag\": 0}, {\"name\": \"These stupid dulwich hills\", \"type\": \"Ride\", \"kudos_count\": 16, \"start_date_local\": \"2024-07-09T00:00:00\", \"moving_time\": 2917, \"elapsed_time\": 3295, \"distance\": 13.572500228881836, \"custom_caption_flag\": 1}, {\"name\": \"Lunch Ride\", \"type\": \"Ride\", \"kudos_count\": 5, \"start_date_local\": \"2024-07-09T00:00:00\", \"moving_time\": 1143, \"elapsed_time\": 1251, \"distance\": 5.692399978637695, \"custom_caption_flag\": 0}, {\"name\": \"Lunch Ride\", \"type\": \"Ride\", \"kudos_count\": 4, \"start_date_local\": \"2024-07-09T00:00:00\", \"moving_time\": 1007, \"elapsed_time\": 1387, \"distance\": 5.137900352478027, \"custom_caption_flag\": 0}, {\"name\": \"watch died\", \"type\": \"Ride\", \"kudos_count\": 0, \"start_date_local\": \"2024-07-10T00:00:00\", \"moving_time\": 847, \"elapsed_time\": 847, \"distance\": 4.0, \"custom_caption_flag\": 1}, {\"name\": \"Tour De Cathlon\", \"type\": \"Ride\", \"kudos_count\": 20, \"start_date_local\": \"2024-07-10T00:00:00\", \"moving_time\": 4665, \"elapsed_time\": 11743, \"distance\": 21.32400131225586, \"custom_caption_flag\": 1}, {\"name\": \"Morning Ride\", \"type\": \"Ride\", \"kudos_count\": 9, \"start_date_local\": \"2024-07-10T00:00:00\", \"moving_time\": 2950, \"elapsed_time\": 3361, \"distance\": 15.232400894165039, \"custom_caption_flag\": 0}, {\"name\": \"Afternoon Ride\", \"type\": \"Ride\", \"kudos_count\": 13, \"start_date_local\": \"2024-07-11T00:00:00\", \"moving_time\": 7130, \"elapsed_time\": 10316, \"distance\": 32.99140167236328, \"custom_caption_flag\": 0}, {\"name\": \"Evening Ride\", \"type\": \"Ride\", \"kudos_count\": 10, \"start_date_local\": \"2024-07-12T00:00:00\", \"moving_time\": 2032, \"elapsed_time\": 4477, \"distance\": 8.352200508117676, \"custom_caption_flag\": 0}, {\"name\": \"solo bikepacking\", \"type\": \"Ride\", \"kudos_count\": 19, \"start_date_local\": \"2024-07-13T00:00:00\", \"moving_time\": 12579, \"elapsed_time\": 20461, \"distance\": 48.26700210571289, \"custom_caption_flag\": 1}, {\"name\": \"Bike back from Epping Forest campsite\", \"type\": \"Ride\", \"kudos_count\": 17, \"start_date_local\": \"2024-07-14T00:00:00\", \"moving_time\": 15045, \"elapsed_time\": 18984, \"distance\": 52.022003173828125, \"custom_caption_flag\": 1}, {\"name\": \"Lunch Ride\", \"type\": \"Ride\", \"kudos_count\": 5, \"start_date_local\": \"2024-07-15T00:00:00\", \"moving_time\": 2560, \"elapsed_time\": 2953, \"distance\": 12.045001029968262, \"custom_caption_flag\": 0}, {\"name\": \"Evening Ride\", \"type\": \"Ride\", \"kudos_count\": 7, \"start_date_local\": \"2024-07-16T00:00:00\", \"moving_time\": 3206, \"elapsed_time\": 3522, \"distance\": 15.69360065460205, \"custom_caption_flag\": 0}, {\"name\": \"Night Ride\", \"type\": \"Ride\", \"kudos_count\": 7, \"start_date_local\": \"2024-07-17T00:00:00\", \"moving_time\": 3079, \"elapsed_time\": 3558, \"distance\": 15.036500930786133, \"custom_caption_flag\": 1}, {\"name\": \"Morning Ride\", \"type\": \"Ride\", \"kudos_count\": 10, \"start_date_local\": \"2024-07-17T00:00:00\", \"moving_time\": 2935, \"elapsed_time\": 3436, \"distance\": 15.380001068115234, \"custom_caption_flag\": 0}, {\"name\": \"Evening Ride\", \"type\": \"Ride\", \"kudos_count\": 13, \"start_date_local\": \"2024-07-18T00:00:00\", \"moving_time\": 3121, \"elapsed_time\": 3646, \"distance\": 15.03700065612793, \"custom_caption_flag\": 0}, {\"name\": \"Afternoon Ride\", \"type\": \"Ride\", \"kudos_count\": 9, \"start_date_local\": \"2024-07-18T00:00:00\", \"moving_time\": 2968, \"elapsed_time\": 3714, \"distance\": 16.013500213623047, \"custom_caption_flag\": 0}, {\"name\": \"finally fell off my bike clipped in\", \"type\": \"Ride\", \"kudos_count\": 24, \"start_date_local\": \"2024-07-28T00:00:00\", \"moving_time\": 13438, \"elapsed_time\": 22030, \"distance\": 65.2406997680664, \"custom_caption_flag\": 1}, {\"name\": \"Morning Ride\", \"type\": \"Ride\", \"kudos_count\": 7, \"start_date_local\": \"2024-07-31T00:00:00\", \"moving_time\": 2666, \"elapsed_time\": 3111, \"distance\": 15.00510025024414, \"custom_caption_flag\": 0}, {\"name\": \"first ride w de ver cycles\", \"type\": \"Ride\", \"kudos_count\": 10, \"start_date_local\": \"2024-08-10T00:00:00\", \"moving_time\": 9046, \"elapsed_time\": 12903, \"distance\": 54.64900207519531, \"custom_caption_flag\": 1}, {\"name\": \"Evening Ride\", \"type\": \"Ride\", \"kudos_count\": 8, \"start_date_local\": \"2024-08-21T00:00:00\", \"moving_time\": 1391, \"elapsed_time\": 1508, \"distance\": 7.1284003257751465, \"custom_caption_flag\": 0}, {\"name\": \"Lunch Ride\", \"type\": \"Ride\", \"kudos_count\": 9, \"start_date_local\": \"2024-09-14T00:00:00\", \"moving_time\": 1328, \"elapsed_time\": 1868, \"distance\": 6.192300319671631, \"custom_caption_flag\": 0}, {\"name\": \"Afternoon Ride\", \"type\": \"Ride\", \"kudos_count\": 6, \"start_date_local\": \"2024-09-15T00:00:00\", \"moving_time\": 3267, \"elapsed_time\": 3480, \"distance\": 15.891700744628906, \"custom_caption_flag\": 0}, {\"name\": \"Morning Ride\", \"type\": \"Ride\", \"kudos_count\": 32, \"start_date_local\": \"2024-09-15T00:00:00\", \"moving_time\": 13844, \"elapsed_time\": 23789, \"distance\": 51.47730255126953, \"custom_caption_flag\": 0}, {\"name\": \"Nooooo more hills\", \"type\": \"Ride\", \"kudos_count\": 21, \"start_date_local\": \"2024-09-18T00:00:00\", \"moving_time\": 7098, \"elapsed_time\": 9446, \"distance\": 33.36530303955078, \"custom_caption_flag\": 1}, {\"name\": \"Evening Ride\", \"type\": \"Ride\", \"kudos_count\": 0, \"start_date_local\": \"2024-09-19T00:00:00\", \"moving_time\": 1279, \"elapsed_time\": 1570, \"distance\": 6.751100540161133, \"custom_caption_flag\": 0}, {\"name\": \"Afternoon Ride\", \"type\": \"Ride\", \"kudos_count\": 2, \"start_date_local\": \"2024-09-19T00:00:00\", \"moving_time\": 1561, \"elapsed_time\": 1645, \"distance\": 7.245700359344482, \"custom_caption_flag\": 0}, {\"name\": \"Morning Ride\", \"type\": \"Ride\", \"kudos_count\": 10, \"start_date_local\": \"2024-09-20T00:00:00\", \"moving_time\": 2613, \"elapsed_time\": 3258, \"distance\": 13.764100074768066, \"custom_caption_flag\": 0}, {\"name\": \"box hill \\ud83d\\udce6\", \"type\": \"Ride\", \"kudos_count\": 22, \"start_date_local\": \"2024-09-28T00:00:00\", \"moving_time\": 16231, \"elapsed_time\": 25874, \"distance\": 88.64830017089844, \"custom_caption_flag\": 1}, {\"name\": \"with Saahil\", \"type\": \"Ride\", \"kudos_count\": 17, \"start_date_local\": \"2024-10-05T00:00:00\", \"moving_time\": 9335, \"elapsed_time\": 14122, \"distance\": 49.73260498046875, \"custom_caption_flag\": 1}, {\"name\": \"better than the tube\", \"type\": \"Ride\", \"kudos_count\": 9, \"start_date_local\": \"2024-10-11T00:00:00\", \"moving_time\": 3993, \"elapsed_time\": 4958, \"distance\": 21.63319969177246, \"custom_caption_flag\": 1}, {\"name\": \"What the hell\", \"type\": \"Ride\", \"kudos_count\": 34, \"start_date_local\": \"2024-10-13T00:00:00\", \"moving_time\": 18383, \"elapsed_time\": 26431, \"distance\": 100.16500854492188, \"custom_caption_flag\": 1}, {\"name\": \"what am I beKOMing\", \"type\": \"Ride\", \"kudos_count\": 17, \"start_date_local\": \"2024-10-17T00:00:00\", \"moving_time\": 7793, \"elapsed_time\": 9094, \"distance\": 46.30039978027344, \"custom_caption_flag\": 1}, {\"name\": \"Morning Ride\", \"type\": \"Ride\", \"kudos_count\": 6, \"start_date_local\": \"2024-10-23T00:00:00\", \"moving_time\": 2866, \"elapsed_time\": 3913, \"distance\": 15.600000381469727, \"custom_caption_flag\": 0}, {\"name\": \"really good at picking routes\", \"type\": \"Ride\", \"kudos_count\": 18, \"start_date_local\": \"2024-10-24T00:00:00\", \"moving_time\": 7382, \"elapsed_time\": 8091, \"distance\": 42.6411018371582, \"custom_caption_flag\": 1}, {\"name\": \"Box Hill\", \"type\": \"Ride\", \"kudos_count\": 20, \"start_date_local\": \"2024-11-01T00:00:00\", \"moving_time\": 9039, \"elapsed_time\": 10890, \"distance\": 54.89350128173828, \"custom_caption_flag\": 1}, {\"name\": \"Lunch Ride\", \"type\": \"Ride\", \"kudos_count\": 9, \"start_date_local\": \"2024-11-09T00:00:00\", \"moving_time\": 2976, \"elapsed_time\": 3572, \"distance\": 15.851099967956543, \"custom_caption_flag\": 0}, {\"name\": \"Brixton CC - 0.96km off\", \"type\": \"Ride\", \"kudos_count\": 23, \"start_date_local\": \"2024-11-10T00:00:00\", \"moving_time\": 16710, \"elapsed_time\": 21890, \"distance\": 99.03929901123047, \"custom_caption_flag\": 1}, {\"name\": \"Morning Ride\", \"type\": \"Ride\", \"kudos_count\": 6, \"start_date_local\": \"2024-11-10T00:00:00\", \"moving_time\": 2, \"elapsed_time\": 2, \"distance\": 0.0, \"custom_caption_flag\": 0}, {\"name\": \"Morning Ride\", \"type\": \"Ride\", \"kudos_count\": 6, \"start_date_local\": \"2024-11-11T00:00:00\", \"moving_time\": 2918, \"elapsed_time\": 3482, \"distance\": 15.047600746154785, \"custom_caption_flag\": 0}]}}, {\"mode\": \"vega-lite\"});\n",
       "</script>"
      ],
      "text/plain": [
       "alt.Chart(...)"
      ]
     },
     "execution_count": 26,
     "metadata": {},
     "output_type": "execute_result"
    }
   ],
   "source": [
    "caption_analysis_bike = caption_analysis.filter(col(\"type\") == \"Ride\").collect()\n",
    "\n",
    "# building the chart - bike\n",
    "chart_bike = alt.Chart(caption_analysis_bike).mark_point().encode(\n",
    "    alt.X(\"distance:Q\").title(\"distance biked (km)\"),\n",
    "    alt.Y(\"kudos_count:Q\").title(\"number of kudos\"),\n",
    "    alt.Color(\"custom_caption_flag:N\", \n",
    "              title=\"custom caption used?\", \n",
    "              scale=alt.Scale(domain=[\"Yes\", \"No\"], range=[\"#ff6a00\", \"#9cd0f7\"])),  \n",
    "    tooltip=\"start_date_local:T\",\n",
    ").transform_calculate(\n",
    "    custom_caption_flag=\"datum.custom_caption_flag == 1 ? 'Yes':'No'\"\n",
    ").configure_point(\n",
    "    size=50,\n",
    "    filled=True\n",
    ").properties(\n",
    "    width=400,\n",
    "    height=400,\n",
    "    title=alt.TitleParams(\n",
    "        text=\"Distance Rode vs. Kudos Received\",\n",
    "        subtitle=\"Pearson's R = 0.69\"\n",
    "        )\n",
    ").interactive()\n",
    "\n",
    "chart_bike"
   ]
  },
  {
   "cell_type": "code",
   "execution_count": 12,
   "metadata": {},
   "outputs": [
    {
     "data": {
      "text/html": [
       "<div><style>\n",
       ".dataframe > thead > tr,\n",
       ".dataframe > tbody > tr {\n",
       "  text-align: right;\n",
       "  white-space: pre-wrap;\n",
       "}\n",
       "</style>\n",
       "<small>shape: (1, 1)</small><table border=\"1\" class=\"dataframe\"><thead><tr><th>distance</th></tr><tr><td>f64</td></tr></thead><tbody><tr><td>0.689147</td></tr></tbody></table></div>"
      ],
      "text/plain": [
       "shape: (1, 1)\n",
       "┌──────────┐\n",
       "│ distance │\n",
       "│ ---      │\n",
       "│ f64      │\n",
       "╞══════════╡\n",
       "│ 0.689147 │\n",
       "└──────────┘"
      ]
     },
     "execution_count": 12,
     "metadata": {},
     "output_type": "execute_result"
    }
   ],
   "source": [
    "corr = caption_analysis_bike.select(pl.corr(\"distance\", \"kudos_count\", method=\"pearson\"))\n",
    "corr"
   ]
  },
  {
   "cell_type": "code",
   "execution_count": 48,
   "metadata": {},
   "outputs": [
    {
     "data": {
      "text/html": [
       "<div><style>\n",
       ".dataframe > thead > tr,\n",
       ".dataframe > tbody > tr {\n",
       "  text-align: right;\n",
       "  white-space: pre-wrap;\n",
       "}\n",
       "</style>\n",
       "<small>shape: (12, 4)</small><table border=\"1\" class=\"dataframe\"><thead><tr><th>moving_time</th><th>elapsed_time</th><th>delta</th><th>cumulative_delta</th></tr><tr><td>duration[μs]</td><td>duration[μs]</td><td>duration[μs]</td><td>duration[μs]</td></tr></thead><tbody><tr><td>11h 20m 53s</td><td>11h 47m 38s</td><td>26m 45s</td><td>26m 45s</td></tr><tr><td>7h 59m 18s</td><td>8h 44m 12s</td><td>44m 54s</td><td>1h 11m 39s</td></tr><tr><td>14h 20m 6s</td><td>14h 58m 54s</td><td>38m 48s</td><td>1h 50m 27s</td></tr><tr><td>14h 23m 39s</td><td>15h 44m 36s</td><td>1h 20m 57s</td><td>3h 11m 24s</td></tr><tr><td>1d 56m 48s</td><td>1d 3h 3m 11s</td><td>2h 6m 23s</td><td>5h 17m 47s</td></tr><tr><td>&hellip;</td><td>&hellip;</td><td>&hellip;</td><td>&hellip;</td></tr><tr><td>9h 45m 58s</td><td>10h 22m 21s</td><td>36m 23s</td><td>8h 23m 25s</td></tr><tr><td>9h 5m 36s</td><td>9h 43m 10s</td><td>37m 34s</td><td>9h 59s</td></tr><tr><td>14h 20m 38s</td><td>15h 36m 46s</td><td>1h 16m 8s</td><td>10h 17m 7s</td></tr><tr><td>15h 54m 22s</td><td>17h 3m 42s</td><td>1h 9m 20s</td><td>11h 26m 27s</td></tr><tr><td>7h 21m 35s</td><td>7h 43m 9s</td><td>21m 34s</td><td>11h 48m 1s</td></tr></tbody></table></div>"
      ],
      "text/plain": [
       "shape: (12, 4)\n",
       "┌──────────────┬──────────────┬──────────────┬──────────────────┐\n",
       "│ moving_time  ┆ elapsed_time ┆ delta        ┆ cumulative_delta │\n",
       "│ ---          ┆ ---          ┆ ---          ┆ ---              │\n",
       "│ duration[μs] ┆ duration[μs] ┆ duration[μs] ┆ duration[μs]     │\n",
       "╞══════════════╪══════════════╪══════════════╪══════════════════╡\n",
       "│ 11h 20m 53s  ┆ 11h 47m 38s  ┆ 26m 45s      ┆ 26m 45s          │\n",
       "│ 7h 59m 18s   ┆ 8h 44m 12s   ┆ 44m 54s      ┆ 1h 11m 39s       │\n",
       "│ 14h 20m 6s   ┆ 14h 58m 54s  ┆ 38m 48s      ┆ 1h 50m 27s       │\n",
       "│ 14h 23m 39s  ┆ 15h 44m 36s  ┆ 1h 20m 57s   ┆ 3h 11m 24s       │\n",
       "│ 1d 56m 48s   ┆ 1d 3h 3m 11s ┆ 2h 6m 23s    ┆ 5h 17m 47s       │\n",
       "│ …            ┆ …            ┆ …            ┆ …                │\n",
       "│ 9h 45m 58s   ┆ 10h 22m 21s  ┆ 36m 23s      ┆ 8h 23m 25s       │\n",
       "│ 9h 5m 36s    ┆ 9h 43m 10s   ┆ 37m 34s      ┆ 9h 59s           │\n",
       "│ 14h 20m 38s  ┆ 15h 36m 46s  ┆ 1h 16m 8s    ┆ 10h 17m 7s       │\n",
       "│ 15h 54m 22s  ┆ 17h 3m 42s   ┆ 1h 9m 20s    ┆ 11h 26m 27s      │\n",
       "│ 7h 21m 35s   ┆ 7h 43m 9s    ┆ 21m 34s      ┆ 11h 48m 1s       │\n",
       "└──────────────┴──────────────┴──────────────┴──────────────────┘"
      ]
     },
     "execution_count": 48,
     "metadata": {},
     "output_type": "execute_result"
    }
   ],
   "source": [
    "elapsed_analysis = caption_analysis_run.group_by_dynamic(\"start_date_local\", every=\"1mo\").agg(\n",
    "    col(\"moving_time\").sum(),\n",
    "    col(\"elapsed_time\").sum())\n",
    "\n",
    "elapsed_analysis.select(\n",
    "    col(\"moving_time\"),\n",
    "    col(\"elapsed_time\"),\n",
    "    delta = col(\"elapsed_time\") - col(\"moving_time\"),\n",
    ").with_columns(\n",
    "    moving_time=pl.duration(seconds=col(\"moving_time\")),\n",
    "    elapsed_time=pl.duration(seconds=col(\"elapsed_time\")),\n",
    "    delta=pl.duration(seconds=\"delta\"),\n",
    "    cumulative_delta=pl.duration(seconds=\"delta\").cum_sum()\n",
    ")"
   ]
  }
 ],
 "metadata": {
  "kernelspec": {
   "display_name": ".venv",
   "language": "python",
   "name": "python3"
  },
  "language_info": {
   "codemirror_mode": {
    "name": "ipython",
    "version": 3
   },
   "file_extension": ".py",
   "mimetype": "text/x-python",
   "name": "python",
   "nbconvert_exporter": "python",
   "pygments_lexer": "ipython3",
   "version": "3.12.3"
  }
 },
 "nbformat": 4,
 "nbformat_minor": 2
}
